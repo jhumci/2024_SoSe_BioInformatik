{
 "cells": [
  {
   "cell_type": "markdown",
   "metadata": {},
   "source": [
    "# Funktionen und Module"
   ]
  },
  {
   "cell_type": "markdown",
   "metadata": {},
   "source": [
    "## Funktionen\n",
    "\n",
    "- Umbau von Code in Funktionen"
   ]
  },
  {
   "cell_type": "code",
   "execution_count": 1,
   "metadata": {},
   "outputs": [
    {
     "name": "stdout",
     "output_type": "stream",
     "text": [
      "{'TGC': 1, 'TAA': 2, 'CCC': 1, 'CTA': 1, 'ATG': 2, 'CCT': 2, 'TCC': 1, 'TTG': 1, 'GAT': 2, 'GTG': 1, 'GTA': 1, 'GCT': 1, 'ATT': 1, 'TTT': 1, 'CTC': 2, 'AGG': 1, 'ATC': 1, 'CGG': 1, 'AAT': 1, 'CGA': 1, 'ACC': 1, 'ATA': 1, 'ACT': 1, 'TTA': 1}\n"
     ]
    }
   ],
   "source": [
    "sequence = \"TGCTAACCCCTAATGCCTTCCTTGGATGTGGTAGCTATTTTTCTCAGGATCCCTCTCCGGAATCGAACCATAACTGATTTATAAATG\"\n",
    "\n",
    "codons_dict = {}\n",
    "\n",
    "counter = 0\n",
    "\n",
    "for start_position in range(0, len(sequence), 3):\n",
    "\n",
    "    codon = sequence[start_position:start_position+3]\n",
    "    \n",
    "    if codon in codons_dict:\n",
    "        codons_dict[codon] = codons_dict[codon] + 1\n",
    "    else:\n",
    "        codons_dict[codon] = 1\n",
    "\n",
    "print(codons_dict)"
   ]
  },
  {
   "cell_type": "code",
   "execution_count": 4,
   "metadata": {},
   "outputs": [],
   "source": [
    "def count_codons(sequence):\n",
    "    codons_dict = {}\n",
    "    for start_position in range(0, len(sequence), 3):\n",
    "        codon = sequence[start_position:start_position+3]\n",
    "        if codon in codons_dict:\n",
    "            codons_dict[codon] = codons_dict[codon] + 1\n",
    "        else:\n",
    "            codons_dict[codon] = 1\n",
    "    return codons_dict"
   ]
  },
  {
   "cell_type": "code",
   "execution_count": 5,
   "metadata": {},
   "outputs": [
    {
     "name": "stdout",
     "output_type": "stream",
     "text": [
      "{'TAT': 2, 'TAG': 1}\n",
      "{'TAT': 3}\n"
     ]
    }
   ],
   "source": [
    "print(count_codons(\"TATTATTAG\"))\n",
    "print(count_codons(\"TATTATTAT\"))"
   ]
  },
  {
   "cell_type": "markdown",
   "metadata": {},
   "source": [
    "### ✍️ Aufgabe: Normalisierungsfunktion\n",
    "\n",
    "Schreiben Sie eine Funktion `normalize`, die eine Liste von Zahlen als Argument nimmt und die Liste so verändert, dass die Summe der Zahlen 1 ergibt. Die Funktion soll die veränderte Liste zurückgeben.\n",
    "\n",
    "Bonus: Packen Sie das Ergebnis wieder in ein Dictionary, das die ursprünglichen Zahlen als Schlüssel und die normalisierten Zahlen als Werte enthält."
   ]
  },
  {
   "cell_type": "code",
   "execution_count": null,
   "metadata": {},
   "outputs": [],
   "source": [
    "my_genes = [\"BRCA1\", \"TP53\", \"EGFR\", \"PTEN\", \"CDH1\"]\n",
    "my_expressions = [5.3, 2.7, 0.1, 1.2, 3.8]\n",
    "\n",
    "max_expression = max(my_expressions)\n",
    "min_expression = min(my_expressions)\n",
    "\n",
    "normalized_values = []\n",
    "\n",
    "for expression in my_expressions:\n",
    "    normalized_value = (expression - min_expression) / (max_expression - min_expression)\n",
    "    normalized_values.append(normalized_value)\n",
    "\n",
    "print(normalized_values)"
   ]
  },
  {
   "cell_type": "code",
   "execution_count": null,
   "metadata": {},
   "outputs": [],
   "source": []
  },
  {
   "cell_type": "code",
   "execution_count": 6,
   "metadata": {},
   "outputs": [
    {
     "name": "stdout",
     "output_type": "stream",
     "text": [
      "[1.0, 0.5, 0.0, 0.2115384615384615, 0.7115384615384615]\n"
     ]
    }
   ],
   "source": [
    "#@title ❓ Click `Show code` in the code cell to show the solution. { display-mode: \"form\" }\n",
    "\n",
    "def normalize(expression_values):\n",
    "    max_expression = max(expression_values)\n",
    "    min_expression = min(expression_values)\n",
    "    normalized_values = []\n",
    "    for expression in expression_values:\n",
    "        normalized_value = (expression - min_expression) / (max_expression - min_expression)\n",
    "        normalized_values.append(normalized_value)\n",
    "    return normalized_values\n",
    "\n",
    "print(normalize([5.3, 2.7, 0.1, 1.2, 3.8]))"
   ]
  },
  {
   "cell_type": "markdown",
   "metadata": {},
   "source": [
    "## Module\n",
    "\n",
    "- Import von Modulen\n",
    "- Pip installieren"
   ]
  },
  {
   "cell_type": "markdown",
   "metadata": {},
   "source": []
  },
  {
   "cell_type": "markdown",
   "metadata": {},
   "source": [
    "## File-Handling\n",
    "\n",
    "- Textdateien lesen und schreiben"
   ]
  },
  {
   "cell_type": "markdown",
   "metadata": {},
   "source": []
  },
  {
   "cell_type": "markdown",
   "metadata": {},
   "source": []
  },
  {
   "cell_type": "markdown",
   "metadata": {},
   "source": []
  }
 ],
 "metadata": {
  "kernelspec": {
   "display_name": "Python 3",
   "language": "python",
   "name": "python3"
  },
  "language_info": {
   "codemirror_mode": {
    "name": "ipython",
    "version": 3
   },
   "file_extension": ".py",
   "mimetype": "text/x-python",
   "name": "python",
   "nbconvert_exporter": "python",
   "pygments_lexer": "ipython3",
   "version": "3.12.0"
  }
 },
 "nbformat": 4,
 "nbformat_minor": 2
}
