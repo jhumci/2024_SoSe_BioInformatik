{
 "cells": [
  {
   "cell_type": "markdown",
   "metadata": {},
   "source": [
    "# Funktionen und Module\n",
    "\n",
    "Durch die beiden vorherigen Kapitel sind Sie in der Lage dazu nahezu beliebige Programme für alle erdenklichen Anwendungen zu schreiben. Das schöne ist aber, dass die aller meisten Probleme schon einmal gelöst wurden und die Lösungen in Form von Funktionen und Modulen in Python zur Verfügung stehen. In diesem Kapitel lernen Sie, wie Sie Funktionen und Module verwenden und wie Sie eigene Funktionen und Module schreiben."
   ]
  },
  {
   "cell_type": "markdown",
   "metadata": {},
   "source": [
    "## Funktionen\n",
    "\n",
    "Funktionen erhöhen die Lesbarkeit und Wiederverwendbarkeit von Code. Sie sind ein wichtiger Bestandteil der Programmierung. Funktionen sind Namen für wiederverwendbare Codeblöcke. Sie können Parameter entgegennehmen und Werte zurückgeben.\n",
    "\n",
    "In Python werden Funktionen mit dem Schlüsselwort `def` definiert. Der Funktionskörper wird eingerückt. Die Funktion wird mit dem Schlüsselwort `return` beendet. Der Ausdruck nach `return` ist der Rückgabewert der Funktion, der in der Zeile in der die Funktion aufgerufen wird, weiter verwendet werden kann.\n",
    "\n",
    "```\n",
    "def <function_name>(<parameter> : <type>) -> <return_type>:\n",
    "    <function_body>\n",
    "    return <return_value>\n",
    "\n",
    "```"
   ]
  },
  {
   "cell_type": "markdown",
   "metadata": {},
   "source": [
    "Im Folgenden Beispiel wird eine Funktion `two_times()` definiert, die einen Parameter `x` entgegennimmt und den Wert `2*x` zurückgibt."
   ]
  },
  {
   "cell_type": "code",
   "execution_count": 8,
   "metadata": {},
   "outputs": [
    {
     "name": "stdout",
     "output_type": "stream",
     "text": [
      "10\n"
     ]
    }
   ],
   "source": [
    "def two_times(x: int) -> int:\n",
    "    y = 2 * x\n",
    "    return y\n",
    "\n",
    "y : int = two_times(5)\n",
    "print(y)"
   ]
  },
  {
   "cell_type": "markdown",
   "metadata": {},
   "source": [
    "Wir können die Funktion mit verschiedenen Werten aufrufen und den Rückgabewert verwenden."
   ]
  },
  {
   "cell_type": "code",
   "execution_count": 10,
   "metadata": {},
   "outputs": [
    {
     "name": "stdout",
     "output_type": "stream",
     "text": [
      "4\n"
     ]
    }
   ],
   "source": [
    "y : int = two_times(2)\n",
    "print(y)"
   ]
  },
  {
   "cell_type": "code",
   "execution_count": 9,
   "metadata": {},
   "outputs": [
    {
     "name": "stdout",
     "output_type": "stream",
     "text": [
      "6\n"
     ]
    }
   ],
   "source": [
    "y : int = two_times(3)\n",
    "print(y)"
   ]
  },
  {
   "cell_type": "markdown",
   "metadata": {},
   "source": [
    "### Beispiel Zählen von Codons\n",
    "\n",
    "Wir haben im letzten Abschnitt gesehen, wie wir die Anzahl and Codons in einer DNA-Sequenz zählen können. Wir können diese Funktionalität in eine Funktion `count_codons()` auslagern. Die Funktion nimmt eine DNA-Sequenz als Parameter und gibt ein Dictionary zurück, das die Anzahl der Vorkommen jedes Codons in der Sequenz enthält."
   ]
  },
  {
   "cell_type": "code",
   "execution_count": 11,
   "metadata": {},
   "outputs": [
    {
     "name": "stdout",
     "output_type": "stream",
     "text": [
      "{'TGC': 1, 'TAA': 2, 'CCC': 1, 'CTA': 1, 'ATG': 2, 'CCT': 2, 'TCC': 1, 'TTG': 1, 'GAT': 2, 'GTG': 1, 'GTA': 1, 'GCT': 1, 'ATT': 1, 'TTT': 1, 'CTC': 2, 'AGG': 1, 'ATC': 1, 'CGG': 1, 'AAT': 1, 'CGA': 1, 'ACC': 1, 'ATA': 1, 'ACT': 1, 'TTA': 1}\n"
     ]
    }
   ],
   "source": [
    "sequence : str = \"TGCTAACCCCTAATGCCTTCCTTGGATGTGGTAGCTATTTTTCTCAGGATCCCTCTCCGGAATCGAACCATAACTGATTTATAAATG\"\n",
    "\n",
    "codons_dict : dict = {}\n",
    "\n",
    "for start_position in range(0, len(sequence), 3):\n",
    "\n",
    "    codon = sequence[start_position:start_position+3]\n",
    "    \n",
    "    if codon in codons_dict:\n",
    "        codons_dict[codon] = codons_dict[codon] + 1\n",
    "    else:\n",
    "        codons_dict[codon] = 1\n",
    "\n",
    "print(codons_dict)"
   ]
  },
  {
   "cell_type": "markdown",
   "metadata": {},
   "source": [
    "Wir können uns zunächst die Funktion `count_codons()` mit ihren Parametern und Rückgabewerten anlegen, bevor wird überlegen was darin passieren soll."
   ]
  },
  {
   "cell_type": "code",
   "execution_count": 12,
   "metadata": {},
   "outputs": [],
   "source": [
    "def count_codons(dna: str) -> dict:\n",
    "    pass\n",
    "    return codons_dict"
   ]
  },
  {
   "cell_type": "markdown",
   "metadata": {},
   "source": [
    "Innerhalb der Funktion muss nun bei jedem Aufruf ein leeres Dictionary angelegt werden, das die Anzahl der Vorkommen der Codons speichert. Dann muss die Sequenz durchlaufen werden und für jedes Codon die Anzahl der Vorkommen im Dictionary erhöht werden. Am Ende wird das Dictionary zurückgegeben.\n",
    "\n",
    "Alles was in der Funktion passiert, muss um eine Ebene eingerückt werden. Die Funktion wird mit dem Schlüsselwort `return` beendet und gibt das Dictionary zurück."
   ]
  },
  {
   "cell_type": "code",
   "execution_count": 4,
   "metadata": {},
   "outputs": [],
   "source": [
    "def count_codons(sequence):\n",
    "    codons_dict = {}\n",
    "    for start_position in range(0, len(sequence), 3):\n",
    "        codon = sequence[start_position:start_position+3]\n",
    "        if codon in codons_dict:\n",
    "            codons_dict[codon] = codons_dict[codon] + 1\n",
    "        else:\n",
    "            codons_dict[codon] = 1\n",
    "    return codons_dict"
   ]
  },
  {
   "cell_type": "markdown",
   "metadata": {},
   "source": [
    "Nachdem wir die Zelle mit der Funktionsdefinition ausgeführt haben, können wir die Funktion `count_codons()` verwenden, um die Anzahl der Vorkommen der Codons in verschiedenen DNA-Sequenzen zu zählen."
   ]
  },
  {
   "cell_type": "code",
   "execution_count": 13,
   "metadata": {},
   "outputs": [
    {
     "name": "stdout",
     "output_type": "stream",
     "text": [
      "{'TGC': 1, 'TAA': 2, 'CCC': 1, 'CTA': 1, 'ATG': 2, 'CCT': 2, 'TCC': 1, 'TTG': 1, 'GAT': 2, 'GTG': 1, 'GTA': 1, 'GCT': 1, 'ATT': 1, 'TTT': 1, 'CTC': 2, 'AGG': 1, 'ATC': 1, 'CGG': 1, 'AAT': 1, 'CGA': 1, 'ACC': 1, 'ATA': 1, 'ACT': 1, 'TTA': 1}\n",
      "{'TGC': 1, 'TAA': 2, 'CCC': 1, 'CTA': 1, 'ATG': 2, 'CCT': 2, 'TCC': 1, 'TTG': 1, 'GAT': 2, 'GTG': 1, 'GTA': 1, 'GCT': 1, 'ATT': 1, 'TTT': 1, 'CTC': 2, 'AGG': 1, 'ATC': 1, 'CGG': 1, 'AAT': 1, 'CGA': 1, 'ACC': 1, 'ATA': 1, 'ACT': 1, 'TTA': 1}\n"
     ]
    }
   ],
   "source": [
    "print(count_codons(\"TATTATTAG\"))\n",
    "print(count_codons(\"TATTATTAT\"))"
   ]
  },
  {
   "cell_type": "markdown",
   "metadata": {},
   "source": [
    "### ✍️ Aufgabe: Normalisierungsfunktion\n",
    "\n",
    "Schreiben Sie eine Funktion `normalize`, die eine Liste von Zahlen als Argument nimmt und die Liste so verändert, dass die Summe der Zahlen 1 ergibt. Die Funktion soll die veränderte Liste zurückgeben.\n",
    "\n",
    "Bonus: Packen Sie das Ergebnis wieder in ein Dictionary, das die ursprünglichen Zahlen als Schlüssel und die normalisierten Zahlen als Werte enthält."
   ]
  },
  {
   "cell_type": "code",
   "execution_count": null,
   "metadata": {},
   "outputs": [],
   "source": [
    "my_genes : list[str] = [\"BRCA1\", \"TP53\", \"EGFR\", \"PTEN\", \"CDH1\"]\n",
    "my_expressions : list[float] = [5.3, 2.7, 0.1, 1.2, 3.8]\n",
    "\n",
    "max_expression : float = max(my_expressions)\n",
    "min_expression : float = min(my_expressions)\n",
    "\n",
    "normalized_values : list[float]  = []\n",
    "\n",
    "for expression in my_expressions:\n",
    "    normalized_value = (expression - min_expression) / (max_expression - min_expression)\n",
    "    normalized_values.append(normalized_value)\n",
    "\n",
    "print(normalized_values)"
   ]
  },
  {
   "cell_type": "code",
   "execution_count": null,
   "metadata": {},
   "outputs": [],
   "source": []
  },
  {
   "cell_type": "code",
   "execution_count": 15,
   "metadata": {},
   "outputs": [
    {
     "name": "stdout",
     "output_type": "stream",
     "text": [
      "[1.0, 0.5, 0.0, 0.2115384615384615, 0.7115384615384615]\n",
      "[0.5252525252525253, 0.26262626262626265, 0.0, 0.11111111111111109, 0.3737373737373737, 1.0]\n"
     ]
    }
   ],
   "source": [
    "#@title ❓ Click `Show code` in the code cell to show the solution. { display-mode: \"form\" }\n",
    "\n",
    "def normalize(expression_values : list[float]) -> list[float]:\n",
    "\n",
    "    max_expression : float = max(expression_values)\n",
    "    min_expression : float = min(expression_values)\n",
    "    normalized_values : list[float] = []\n",
    "    for expression in expression_values:\n",
    "        normalized_value = (expression - min_expression) / (max_expression - min_expression)\n",
    "        normalized_values.append(normalized_value)\n",
    "    return normalized_values\n",
    "\n",
    "print(normalize([5.3, 2.7, 0.1, 1.2, 3.8]))\n",
    "print(normalize([5.3, 2.7, 0.1, 1.2, 3.8, 10.0]))"
   ]
  },
  {
   "cell_type": "markdown",
   "metadata": {},
   "source": [
    "## Module\n",
    "\n",
    "Python hat in seiner Grundausstattung eine Vielzahl von Funktionen und Klassen, die wie bisher überwiegend genutzt haben. Die große Stärke von Python ist jedoch die Vielzahl von Modulen, die von der Community entwickelt und geteilt werden. Ein Modul ist eine Sammlung von Funktionen und Klassen, die in einer Datei gespeichert sind. Ein Modul kann in einem anderen Skript importiert und verwendet werden. So gibt es beispielsweise das Modul `math`, das [mathematische Funktionen und Konstanten](https://docs.python.org/3/library/math.html) enthält. Das Modul `random` enthält Funktionen zur Erzeugung von Zufallszahlen."
   ]
  },
  {
   "cell_type": "markdown",
   "metadata": {},
   "source": [
    "### Importieren von Modulen\n"
   ]
  },
  {
   "cell_type": "code",
   "execution_count": 19,
   "metadata": {},
   "outputs": [
    {
     "data": {
      "text/plain": [
       "3.141592653589793"
      ]
     },
     "execution_count": 19,
     "metadata": {},
     "output_type": "execute_result"
    }
   ],
   "source": [
    "math.pi"
   ]
  },
  {
   "cell_type": "code",
   "execution_count": 18,
   "metadata": {},
   "outputs": [
    {
     "name": "stdout",
     "output_type": "stream",
     "text": [
      "3.141592653589793\n",
      "1.0\n"
     ]
    }
   ],
   "source": [
    "import math\n",
    "\n",
    "pi : float = math.pi\n",
    "\n",
    "print(pi)\n",
    "\n",
    "print(math.sin(pi/2))"
   ]
  },
  {
   "cell_type": "markdown",
   "metadata": {},
   "source": [
    "### Installieren von Modulen\n",
    "\n",
    "Nicht alle Pakete, die wir je benutzen wollen, sind in der Standardbibliothek enthalten. Es gibt jedoch eine Vielzahl von Paketen, die von der Python-Community entwickelt und geteilt werden. Diese Pakete können mit dem Paketmanager `pip` installiert werden. Der Befehl `pip install <package_name>` installiert das Paket `<package_name>`.\n",
    "\n",
    "Beispielsweise können wir das Paket `biopython` installieren, das Funktionen zur Arbeit mit biologischen Daten enthält. Das Paket `biopython` enthält Funktionen zur Arbeit mit DNA-Sequenzen, Proteinsequenzen und biologischen Datenbanken.\n",
    "\n",
    "In Jupyter-Notebooks können wir den Befehl `!` verwenden, um Befehle in der Kommandozeile auszuführen. Der Befehl `!pip install biopython` installiert das Paket `biopython`."
   ]
  },
  {
   "cell_type": "code",
   "execution_count": 22,
   "metadata": {},
   "outputs": [
    {
     "ename": "NameError",
     "evalue": "name 'biopython' is not defined",
     "output_type": "error",
     "traceback": [
      "\u001b[1;31m---------------------------------------------------------------------------\u001b[0m",
      "\u001b[1;31mNameError\u001b[0m                                 Traceback (most recent call last)",
      "Cell \u001b[1;32mIn[22], line 2\u001b[0m\n\u001b[0;32m      1\u001b[0m \u001b[38;5;66;03m# Vor der Installation von Biopython ist der Befehl noch unbekannt\u001b[39;00m\n\u001b[1;32m----> 2\u001b[0m \u001b[43mbiopython\u001b[49m\n",
      "\u001b[1;31mNameError\u001b[0m: name 'biopython' is not defined"
     ]
    }
   ],
   "source": [
    "# Vor der Installation von Biopython ist der Befehl noch unbekannt\n",
    "biopython"
   ]
  },
  {
   "cell_type": "code",
   "execution_count": 23,
   "metadata": {},
   "outputs": [
    {
     "name": "stdout",
     "output_type": "stream",
     "text": [
      "Requirement already satisfied: biopython in c:\\python312\\lib\\site-packages (1.83)\n",
      "Requirement already satisfied: numpy in c:\\python312\\lib\\site-packages (from biopython) (1.26.1)\n"
     ]
    }
   ],
   "source": [
    "!pip install biopython"
   ]
  },
  {
   "cell_type": "code",
   "execution_count": 24,
   "metadata": {},
   "outputs": [],
   "source": [
    "from Bio.Seq import Seq\n",
    "\n",
    "my_seg_str : str = \"AGTACACTGGT\"\n",
    "my_seq = Seq(my_seg_str)\n"
   ]
  },
  {
   "cell_type": "code",
   "execution_count": 25,
   "metadata": {},
   "outputs": [
    {
     "data": {
      "text/plain": [
       "3"
      ]
     },
     "execution_count": 25,
     "metadata": {},
     "output_type": "execute_result"
    }
   ],
   "source": [
    "my_seq.count(\"A\")"
   ]
  },
  {
   "cell_type": "code",
   "execution_count": 26,
   "metadata": {},
   "outputs": [
    {
     "data": {
      "text/plain": [
       "1"
      ]
     },
     "execution_count": 26,
     "metadata": {},
     "output_type": "execute_result"
    }
   ],
   "source": [
    "my_seq.count(\"AG\")"
   ]
  },
  {
   "cell_type": "code",
   "execution_count": 31,
   "metadata": {},
   "outputs": [],
   "source": [
    "coding_strand  = my_seq.reverse_complement()"
   ]
  },
  {
   "cell_type": "code",
   "execution_count": 32,
   "metadata": {},
   "outputs": [
    {
     "name": "stderr",
     "output_type": "stream",
     "text": [
      "c:\\Python312\\Lib\\site-packages\\Bio\\Seq.py:2880: BiopythonWarning: Partial codon, len(sequence) not a multiple of three. Explicitly trim the sequence or add trailing N before translation. This may become an error in future.\n",
      "  warnings.warn(\n"
     ]
    },
    {
     "data": {
      "text/plain": [
       "Seq('TSV')"
      ]
     },
     "execution_count": 32,
     "metadata": {},
     "output_type": "execute_result"
    }
   ],
   "source": [
    "coding_strand.translate()"
   ]
  },
  {
   "cell_type": "markdown",
   "metadata": {},
   "source": []
  },
  {
   "cell_type": "markdown",
   "metadata": {},
   "source": [
    "## File-Handling\n",
    "\n",
    "- Textdateien lesen und schreiben"
   ]
  },
  {
   "cell_type": "markdown",
   "metadata": {},
   "source": []
  },
  {
   "cell_type": "markdown",
   "metadata": {},
   "source": [
    "# Load a FASTA file\n",
    "\n",
    "We will use the `biopython` package to read a FASTA file. The `biopython` package contains functions for working with biological data, including DNA sequences, protein sequences, and biological databases."
   ]
  },
  {
   "cell_type": "code",
   "execution_count": 39,
   "metadata": {},
   "outputs": [
    {
     "ename": "FileNotFoundError",
     "evalue": "[Errno 2] No such file or directory: 'https://raw.githubusercontent.com/biopython/biopython/master/Doc/examples/ls_orchid.fasta'",
     "output_type": "error",
     "traceback": [
      "\u001b[1;31m---------------------------------------------------------------------------\u001b[0m",
      "\u001b[1;31mFileNotFoundError\u001b[0m                         Traceback (most recent call last)",
      "Cell \u001b[1;32mIn[39], line 5\u001b[0m\n\u001b[0;32m      2\u001b[0m \u001b[38;5;28;01mfrom\u001b[39;00m \u001b[38;5;21;01mBio\u001b[39;00m \u001b[38;5;28;01mimport\u001b[39;00m SeqIO\n\u001b[0;32m      4\u001b[0m \u001b[38;5;66;03m# Load the file\u001b[39;00m\n\u001b[1;32m----> 5\u001b[0m \u001b[38;5;28;01mfor\u001b[39;00m seq_record \u001b[38;5;129;01min\u001b[39;00m \u001b[43mSeqIO\u001b[49m\u001b[38;5;241;43m.\u001b[39;49m\u001b[43mparse\u001b[49m\u001b[43m(\u001b[49m\u001b[38;5;124;43mr\u001b[39;49m\u001b[38;5;124;43m\"\u001b[39;49m\u001b[38;5;124;43mhttps://raw.githubusercontent.com/biopython/biopython/master/Doc/examples/ls_orchid.fasta\u001b[39;49m\u001b[38;5;124;43m\"\u001b[39;49m\u001b[43m,\u001b[49m\u001b[43m \u001b[49m\u001b[38;5;124;43m\"\u001b[39;49m\u001b[38;5;124;43mfasta\u001b[39;49m\u001b[38;5;124;43m\"\u001b[39;49m\u001b[43m)\u001b[49m:\n\u001b[0;32m      6\u001b[0m     \u001b[38;5;28mprint\u001b[39m(seq_record\u001b[38;5;241m.\u001b[39mid)\n\u001b[0;32m      7\u001b[0m     \u001b[38;5;28mprint\u001b[39m(\u001b[38;5;28mrepr\u001b[39m(seq_record\u001b[38;5;241m.\u001b[39mseq))\n",
      "File \u001b[1;32mc:\\Python312\\Lib\\site-packages\\Bio\\SeqIO\\__init__.py:613\u001b[0m, in \u001b[0;36mparse\u001b[1;34m(handle, format, alphabet)\u001b[0m\n\u001b[0;32m    611\u001b[0m iterator_generator \u001b[38;5;241m=\u001b[39m _FormatToIterator\u001b[38;5;241m.\u001b[39mget(\u001b[38;5;28mformat\u001b[39m)\n\u001b[0;32m    612\u001b[0m \u001b[38;5;28;01mif\u001b[39;00m iterator_generator:\n\u001b[1;32m--> 613\u001b[0m     \u001b[38;5;28;01mreturn\u001b[39;00m \u001b[43miterator_generator\u001b[49m\u001b[43m(\u001b[49m\u001b[43mhandle\u001b[49m\u001b[43m)\u001b[49m\n\u001b[0;32m    614\u001b[0m \u001b[38;5;28;01mif\u001b[39;00m \u001b[38;5;28mformat\u001b[39m \u001b[38;5;129;01min\u001b[39;00m AlignIO\u001b[38;5;241m.\u001b[39m_FormatToIterator:\n\u001b[0;32m    615\u001b[0m     \u001b[38;5;66;03m# Use Bio.AlignIO to read in the alignments\u001b[39;00m\n\u001b[0;32m    616\u001b[0m     \u001b[38;5;28;01mreturn\u001b[39;00m (r \u001b[38;5;28;01mfor\u001b[39;00m alignment \u001b[38;5;129;01min\u001b[39;00m AlignIO\u001b[38;5;241m.\u001b[39mparse(handle, \u001b[38;5;28mformat\u001b[39m) \u001b[38;5;28;01mfor\u001b[39;00m r \u001b[38;5;129;01min\u001b[39;00m alignment)\n",
      "File \u001b[1;32mc:\\Python312\\Lib\\site-packages\\Bio\\SeqIO\\FastaIO.py:190\u001b[0m, in \u001b[0;36mFastaIterator.__init__\u001b[1;34m(self, source, alphabet)\u001b[0m\n\u001b[0;32m    188\u001b[0m \u001b[38;5;28;01mif\u001b[39;00m alphabet \u001b[38;5;129;01mis\u001b[39;00m \u001b[38;5;129;01mnot\u001b[39;00m \u001b[38;5;28;01mNone\u001b[39;00m:\n\u001b[0;32m    189\u001b[0m     \u001b[38;5;28;01mraise\u001b[39;00m \u001b[38;5;167;01mValueError\u001b[39;00m(\u001b[38;5;124m\"\u001b[39m\u001b[38;5;124mThe alphabet argument is no longer supported\u001b[39m\u001b[38;5;124m\"\u001b[39m)\n\u001b[1;32m--> 190\u001b[0m \u001b[38;5;28;43msuper\u001b[39;49m\u001b[43m(\u001b[49m\u001b[43m)\u001b[49m\u001b[38;5;241;43m.\u001b[39;49m\u001b[38;5;21;43m__init__\u001b[39;49m\u001b[43m(\u001b[49m\u001b[43msource\u001b[49m\u001b[43m,\u001b[49m\u001b[43m \u001b[49m\u001b[43mmode\u001b[49m\u001b[38;5;241;43m=\u001b[39;49m\u001b[38;5;124;43m\"\u001b[39;49m\u001b[38;5;124;43mt\u001b[39;49m\u001b[38;5;124;43m\"\u001b[39;49m\u001b[43m,\u001b[49m\u001b[43m \u001b[49m\u001b[43mfmt\u001b[49m\u001b[38;5;241;43m=\u001b[39;49m\u001b[38;5;124;43m\"\u001b[39;49m\u001b[38;5;124;43mFasta\u001b[39;49m\u001b[38;5;124;43m\"\u001b[39;49m\u001b[43m)\u001b[49m\n",
      "File \u001b[1;32mc:\\Python312\\Lib\\site-packages\\Bio\\SeqIO\\Interfaces.py:58\u001b[0m, in \u001b[0;36mSequenceIterator.__init__\u001b[1;34m(self, source, alphabet, mode, fmt)\u001b[0m\n\u001b[0;32m     56\u001b[0m     \u001b[38;5;28;01mraise\u001b[39;00m \u001b[38;5;167;01mValueError\u001b[39;00m(\u001b[38;5;124m\"\u001b[39m\u001b[38;5;124mThe alphabet argument is no longer supported\u001b[39m\u001b[38;5;124m\"\u001b[39m)\n\u001b[0;32m     57\u001b[0m \u001b[38;5;28;01mif\u001b[39;00m \u001b[38;5;28misinstance\u001b[39m(source, _PathLikeTypes):\n\u001b[1;32m---> 58\u001b[0m     \u001b[38;5;28mself\u001b[39m\u001b[38;5;241m.\u001b[39mstream \u001b[38;5;241m=\u001b[39m \u001b[38;5;28;43mopen\u001b[39;49m\u001b[43m(\u001b[49m\u001b[43msource\u001b[49m\u001b[43m,\u001b[49m\u001b[43m \u001b[49m\u001b[38;5;124;43m\"\u001b[39;49m\u001b[38;5;124;43mr\u001b[39;49m\u001b[38;5;124;43m\"\u001b[39;49m\u001b[43m \u001b[49m\u001b[38;5;241;43m+\u001b[39;49m\u001b[43m \u001b[49m\u001b[43mmode\u001b[49m\u001b[43m)\u001b[49m\n\u001b[0;32m     59\u001b[0m     \u001b[38;5;28mself\u001b[39m\u001b[38;5;241m.\u001b[39mshould_close_stream \u001b[38;5;241m=\u001b[39m \u001b[38;5;28;01mTrue\u001b[39;00m\n\u001b[0;32m     60\u001b[0m \u001b[38;5;28;01melse\u001b[39;00m:\n",
      "\u001b[1;31mFileNotFoundError\u001b[0m: [Errno 2] No such file or directory: 'https://raw.githubusercontent.com/biopython/biopython/master/Doc/examples/ls_orchid.fasta'"
     ]
    }
   ],
   "source": [
    "# Use biopython to load a fasta file\n",
    "from Bio import SeqIO\n",
    "\n",
    "# Load the file\n",
    "for seq_record in SeqIO.parse(r\"https://raw.githubusercontent.com/biopython/biopython/master/Doc/examples/ls_orchid.fasta\", \"fasta\"):\n",
    "    print(seq_record.id)\n",
    "    print(repr(seq_record.seq))\n",
    "    print(len(seq_record))\n"
   ]
  },
  {
   "cell_type": "markdown",
   "metadata": {},
   "source": []
  },
  {
   "cell_type": "markdown",
   "metadata": {},
   "source": [
    "### ✍️ Aufgabe: FASTA-Datei lesen\n"
   ]
  },
  {
   "cell_type": "markdown",
   "metadata": {},
   "source": []
  }
 ],
 "metadata": {
  "kernelspec": {
   "display_name": "Python 3",
   "language": "python",
   "name": "python3"
  },
  "language_info": {
   "codemirror_mode": {
    "name": "ipython",
    "version": 3
   },
   "file_extension": ".py",
   "mimetype": "text/x-python",
   "name": "python",
   "nbconvert_exporter": "python",
   "pygments_lexer": "ipython3",
   "version": "3.12.0"
  }
 },
 "nbformat": 4,
 "nbformat_minor": 2
}
