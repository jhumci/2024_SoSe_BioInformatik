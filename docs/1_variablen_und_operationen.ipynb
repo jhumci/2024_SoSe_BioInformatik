{
 "cells": [
  {
   "cell_type": "markdown",
   "metadata": {},
   "source": [
    "# Variablen und Operatoren\n",
    "\n",
    "- Variablen sind Speicherorte für Werte.\n",
    "- Wie genau die Daten im Speicher abgelegt werden, ist für uns nicht relevant.\n",
    "- Wichtig ist, dass es verschiedene Datentypen gibt, die z.B. unterschiedlich viel Speicherplatz benötigen (eine Zahl an Versuchen vs. eine DNA-Sequenz).\n",
    "- Zunächst lernen wir die wichtigsten Datentypen kennen:\n",
    "    - `int` Integer (Ganzzahlen) \n",
    "    - `float` Float (Fließkommazahlen)\n",
    "    - `str` String (Zeichenketten)\n",
    "    - `bool` Boolean (Wahrheitswerte)"
   ]
  },
  {
   "cell_type": "markdown",
   "metadata": {},
   "source": [
    "## Integer (ganze Zahlen) und Float (Dezimalzahlen)\n"
   ]
  },
  {
   "cell_type": "markdown",
   "metadata": {},
   "source": [
    "### Deklaration und Initialisierung\n",
    "\n",
    "- hier wird eine Variable `var1` deklariert und mit dem Wert `0` initialisiert\n",
    "- die Variable ist nach Ausführung der Zelle im Arbeitsspeicher des PC vorhanden \n",
    "- Beim Ausdruck `var1 : int = 0` ist \n",
    "    - `var1` der Name der Variable, den wir willkürlich aber sinnvoll wählen\n",
    "    - `: int` ist der Datentyp der Variable, hier `int` für ganze Zahlen\n",
    "    - `=` ist der Zuweisungsoperator, mit der wir der Variable den Wert `0` zuweisen"
   ]
  },
  {
   "cell_type": "code",
   "execution_count": 1,
   "metadata": {},
   "outputs": [],
   "source": [
    "var1 : int = 0"
   ]
  },
  {
   "cell_type": "markdown",
   "metadata": {},
   "source": [
    "### Print-Befehl und Laufzeit\n",
    "\n",
    "- der Print-Befehl gibt den Wert der Variable `var1` aus\n",
    "- alle Variablen und Befehle in einer Zelle werden nacheinander ausgeführt"
   ]
  },
  {
   "cell_type": "code",
   "execution_count": 2,
   "metadata": {},
   "outputs": [
    {
     "name": "stdout",
     "output_type": "stream",
     "text": [
      "0\n",
      "1\n"
     ]
    }
   ],
   "source": [
    "print(var1)\n",
    "print(1)"
   ]
  },
  {
   "cell_type": "markdown",
   "metadata": {},
   "source": [
    "### ✍️ Aufgabe\n",
    "\n",
    "- Starten Sie die Laufzeit neu (Menü `Laufzeit` > `Sitzung neu starten`)\n",
    "- Führen Sie die Zelle mit den `print`-Befehlen erneut aus\n",
    "- Nun erscheint der folgende Fehler, welcher immer auftritt, wenn der Python-Interpreter auf etwas trifft, das er nicht kennt\n",
    "\n",
    "```python\n",
    "NameError                                 Traceback (most recent call last)\n",
    "Cell In[1], line 1\n",
    "----> 1 print(var1)\n",
    "      2 print(1)\n",
    "\n",
    "NameError: name 'var1' is not defined\n",
    "```\n",
    "\n",
    "- Führen Sie auch die Zelle mit der Deklaration und Initialisierung der Variable `var1` aus\n",
    "- Führen Sie die Zelle mit den `print`-Befehlen erneut aus"
   ]
  },
  {
   "cell_type": "markdown",
   "metadata": {},
   "source": [
    "## Floats\n",
    "\n",
    "- Ganze Zahlen sind nur ein Teil der Zahlen, die wir im Alltag verwenden\n",
    "- Wir verwenden auch Dezimalzahlen, die wir als `float` bezeichnen\n",
    "- Der Name `float` kommt von \"floating point number\", was auf die Art und Weise hinweist, wie diese Zahlen im Speicher abgelegt werden\n",
    "- In den meisten Fällen können wir `int` und `float` gleich behandeln"
   ]
  },
  {
   "cell_type": "code",
   "execution_count": 3,
   "metadata": {},
   "outputs": [],
   "source": [
    "var2 : float = 0.1\n",
    "var3 : float = -0.2"
   ]
  },
  {
   "cell_type": "markdown",
   "metadata": {},
   "source": [
    "#### Umwandlung von `int` in `float`\n",
    "\n",
    "- Wir können eine `int`-Variable in eine `float`-Variable umwandeln, indem wir den Wert der `int`-Variable mit `float()` umschließen\n",
    "- Entsprechend funktioniert die Umwandlung von `float` in `int` mit `int()` und auch für andere Datenstrukturen"
   ]
  },
  {
   "cell_type": "code",
   "execution_count": 4,
   "metadata": {},
   "outputs": [
    {
     "name": "stdout",
     "output_type": "stream",
     "text": [
      "0\n",
      "0.0\n"
     ]
    }
   ],
   "source": [
    "print(var1)\n",
    "print(float(var1))"
   ]
  },
  {
   "cell_type": "markdown",
   "metadata": {},
   "source": [
    "### ✍️ Aufgabe\n",
    "\n",
    "- Schreiben Sie drei `print()` Befehle, um sowohl die beiden Variable `var1`, `var2`, `var3` auszugeben. Alle sollen als `float` angezeigt werden."
   ]
  },
  {
   "cell_type": "code",
   "execution_count": null,
   "metadata": {},
   "outputs": [],
   "source": []
  },
  {
   "cell_type": "code",
   "execution_count": 5,
   "metadata": {},
   "outputs": [
    {
     "name": "stdout",
     "output_type": "stream",
     "text": [
      "0.0\n",
      "0.1\n",
      "-0.2\n"
     ]
    }
   ],
   "source": [
    "#@title ❓ Click `Show code` in the code cell to show the solution. { display-mode: \"form\" }\n",
    "\n",
    "print(float(var1))\n",
    "print(float(var2))\n",
    "print(float(var3))"
   ]
  },
  {
   "cell_type": "markdown",
   "metadata": {},
   "source": [
    "## Operatoren"
   ]
  },
  {
   "cell_type": "markdown",
   "metadata": {},
   "source": [
    "### Arithmetische Operatoren\n",
    "\n",
    "Für Berechnungen stehen uns verschiedene Operatoren zur Verfügung:\n",
    "\n",
    "- `+, -, *, /` verhalten sich wie gewohnt\n",
    "- `()` können verwendet werden, um die Reihenfolge der Operationen zu steuern\n",
    "- `**` ist der Potenz-Operator $2^3$ wird als `2**3` geschrieben\n",
    "- Es gibt noch einige weitere Operatoren, die in der Programmiersprache Python häufiger verwendet werden können:\n",
    "    - `%` ist der Modulo-Operator, der den Rest einer Division berechnet\n",
    "    - `//` ist der Floor-Operator, der den ganzzahligen Anteil einer Division berechnet\n",
    "    - `@` ist der Matrix-Multiplikations-Operator\n",
    "\n",
    "\n"
   ]
  },
  {
   "cell_type": "markdown",
   "metadata": {},
   "source": [
    "### ✍️ Aufgabe: Proteingehalt berechnen\n",
    "\n",
    "Schreibe ein Python-Programm, das den Proteingehalt einer Aminosäuresequenz berechnet. Verwende dazu die mathematischen Operatoren für die Addition.\n",
    "\n",
    "Die Sequenz lautet `\"ARNDC\"`\n",
    "\n",
    "Legen Sie je eine Variable z.B. `mass_A_dalton` für die Aminosäuren `A`, `R`, `N`, `D`, `C` an und weisen Sie ihnen die Werte `71.07`, `156.18`, `114.04`, `115.08`, `103.01` in [Dalton](https://de.wikipedia.org/wiki/Atomare_Masseneinheit) zu.\n",
    "Addieren Sie die Werte der Aminosäuren und speichern Sie das Ergebnis in einer Variable `protein_mass_dalton` und printen Sie das Ergebnis.\n",
    "Rechen Sie das Ergebnis in Kilodalton um und speichern Sie das Ergebnis in einer Variable `protein_mass_kdalton` und printen Sie das Ergebnis."
   ]
  },
  {
   "cell_type": "code",
   "execution_count": null,
   "metadata": {},
   "outputs": [],
   "source": []
  },
  {
   "cell_type": "code",
   "execution_count": 6,
   "metadata": {},
   "outputs": [
    {
     "name": "stdout",
     "output_type": "stream",
     "text": [
      "559.38\n",
      "0.55938\n"
     ]
    }
   ],
   "source": [
    "#@title ❓ Click `Show code` in the code cell to show the solution. { display-mode: \"form\" }\n",
    "\n",
    "# Definiere die Masse der einzelnen Aminosäuren\n",
    "mass_a_dalton : float  = 71.07\n",
    "mass_r_dalton : float = 156.18\n",
    "mass_n_dalton : float = 114.04\n",
    "mass_d_dalton : float = 115.08\n",
    "mass_c_dalton : float = 103.01\n",
    "\n",
    "# Berechne den Proteingehalt\n",
    "protein_content_dalton : float = mass_a_dalton + mass_r_dalton + mass_n_dalton + mass_d_dalton + mass_c_dalton\n",
    "protein_content_kilodalton : float = protein_content_dalton / 1000\n",
    "\n",
    "# Gib den Proteingehalt aus\n",
    "print(protein_content_dalton)\n",
    "\n",
    "# Gib den Proteingehalt aus\n",
    "print(protein_content_kilodalton)"
   ]
  },
  {
   "cell_type": "code",
   "execution_count": 7,
   "metadata": {},
   "outputs": [
    {
     "name": "stdout",
     "output_type": "stream",
     "text": [
      "Der Proteingehalt beträgt:559.38 Dalton\n",
      "Der Proteingehalt beträgt:0.55938 KiloDalton\n"
     ]
    }
   ],
   "source": [
    "#@title ❓ Click `Show code` in the code cell to show the solution. { display-mode: \"form\" }\n",
    "\n",
    "# Definiere die Masse der einzelnen Aminosäuren\n",
    "mass_a_dalton : float = 71.07\n",
    "mass_r_dalton : float = 156.18\n",
    "mass_n_dalton : float = 114.04\n",
    "mass_d_dalton : float = 115.08\n",
    "mass_c_dalton : float = 103.01\n",
    "\n",
    "# Berechne den Proteingehalt\n",
    "protein_content_dalton : float = mass_a_dalton + mass_r_dalton + mass_n_dalton + mass_d_dalton + mass_c_dalton\n",
    "protein_content_kilodalton : float = protein_content_dalton / 1000\n",
    "\n",
    "# Gib den Proteingehalt aus\n",
    "print(\"Der Proteingehalt beträgt:\"+ str(protein_content_dalton) + \" Dalton\")\n",
    "\n",
    "# Gib den Proteingehalt aus\n",
    "print(\"Der Proteingehalt beträgt:\"+ str(protein_content_kilodalton) + \" KiloDalton\")"
   ]
  },
  {
   "cell_type": "markdown",
   "metadata": {},
   "source": [
    "### Vergleichsoperatoren\n",
    "\n",
    "Verwenden Sie die Vergleichsoperatoren helfen uns dabei herauszufinden, ob zwei Werte gleich sind oder ob ein Wert größer oder kleiner ist als ein anderer Wert. Zunächst beschränken wir uns auf die Vergleichsoperatoren für Zahlen (Viele Vergleichsoperatoren können auch auf andere Datenstrukturen angewendet werden, aber das ist ein Thema für später). Hier sind die wichtigsten Vergleichsoperatoren:\n",
    "\n",
    "* `==` prüft, ob zwei Werte gleich sind\n",
    "* `!=` prüft, ob zwei Werte ungleich sind\n",
    "* `>` prüft, ob der linke Wert größer ist als der rechte Wert\n",
    "* `<` prüft, ob der linke Wert kleiner ist als der rechte Wert\n",
    "* `>=` prüft, ob der linke Wert größer oder gleich ist wie der rechte Wert\n",
    "* `<=` prüft, ob der linke Wert kleiner oder gleich ist wie der rechte Wert"
   ]
  },
  {
   "cell_type": "code",
   "execution_count": 8,
   "metadata": {},
   "outputs": [
    {
     "name": "stdout",
     "output_type": "stream",
     "text": [
      "True\n"
     ]
    }
   ],
   "source": [
    "print(1==1)"
   ]
  },
  {
   "cell_type": "code",
   "execution_count": 9,
   "metadata": {},
   "outputs": [
    {
     "name": "stdout",
     "output_type": "stream",
     "text": [
      "True\n"
     ]
    }
   ],
   "source": [
    "print(2.0>=1)"
   ]
  },
  {
   "cell_type": "markdown",
   "metadata": {},
   "source": [
    "### ✍️ Aufgabe: Proteingehalt berechnen\n",
    "\n",
    "- Kopieren Sie die Lösung von oben und ergänzen Sie ein Statement, welches prüft, ob der Proteingehalt größer als der Wert in einer Variable `threshold = 500` Dalton ist und printen Sie das Ergebnis."
   ]
  },
  {
   "cell_type": "code",
   "execution_count": null,
   "metadata": {},
   "outputs": [],
   "source": []
  },
  {
   "cell_type": "code",
   "execution_count": 10,
   "metadata": {},
   "outputs": [
    {
     "name": "stdout",
     "output_type": "stream",
     "text": [
      "True\n"
     ]
    }
   ],
   "source": [
    "#@title ❓ Click `Show code` in the code cell to show the solution. { display-mode: \"form\" }\n",
    "\n",
    "# Definiere Threshold\n",
    "threshold : int = 500\n",
    "\n",
    "# Definiere die Masse der einzelnen Aminosäuren\n",
    "mass_a_dalton : float = 71.07\n",
    "mass_r_dalton : float = 156.18\n",
    "mass_n_dalton : float = 114.04\n",
    "mass_d_dalton : float = 115.08\n",
    "mass_c_dalton : float = 103.01\n",
    "\n",
    "# Berechne den Proteingehalt\n",
    "protein_content_dalton : float = mass_a_dalton + mass_r_dalton + mass_n_dalton + mass_d_dalton + mass_c_dalton\n",
    "\n",
    "print(protein_content_dalton>threshold)\n",
    "\n"
   ]
  },
  {
   "cell_type": "markdown",
   "metadata": {},
   "source": [
    "## Wahrheitswerte  und Boolsche Variabeln\n",
    "\n",
    "- Boolsche Variablen können nur zwei Werte annehmen: `True` oder `False`\n",
    "- Sie sind der wichtigste Datentyp in der IT und Digitaltechnik, da alle Datentypen und Operationen hierauf zurückgeführt werden können\n",
    "- Boolsche Variablen können z.B. durch Vergleichsoperatoren erzeugt werden oder direkt deklariert werden\n",
    "- Oft macht es Sinn die Variable mit einem sinnvollen Namen zu benennen, z.B. `is_<>`zu benennen, um zu verdeutlichen, dass es sich um einen Wahrheitswert handelt"
   ]
  },
  {
   "cell_type": "code",
   "execution_count": 11,
   "metadata": {},
   "outputs": [],
   "source": [
    "is_very_heavy_protein : bool = False\n",
    "is_toxic : bool = True"
   ]
  },
  {
   "cell_type": "markdown",
   "metadata": {},
   "source": [
    "### Logische Operatoren\n",
    "\n",
    "Helfen uns Wahrheitswerte zu verknüpfen. Hier sind die wichtigsten logischen Operatoren:\n",
    "- `and` verknüpft zwei Wahrheitswerte mit einem logischen UND\n",
    "- `or` verknüpft zwei Wahrheitswerte mit einem logischen ODER\n",
    "- `not` negiert einen Wahrheitswert\n",
    "- `( )` können verwendet werden, um die Reihenfolge der Operationen zu steuern"
   ]
  },
  {
   "cell_type": "markdown",
   "metadata": {},
   "source": [
    "#### Logisches UND\t\n",
    "\n",
    "Die Auswertung eines logischen UND ist nur dann wahr, wenn beide Operanden wahr sind. In allen anderen Fällen ist das Ergebnis falsch. Dies Operatoren können als Wahrheitstabelle dargestellt werden:\n",
    "\n",
    "| `a` | `b` | `a and b` |\n",
    "|---|---|---------|\n",
    "| `F` | `F` | `F`       |\n",
    "| `F` | `T` | `F`       |\n",
    "| `T` | `F` | `F`       |\n",
    "| `T` | `T` | `T`       |"
   ]
  },
  {
   "cell_type": "code",
   "execution_count": 12,
   "metadata": {},
   "outputs": [
    {
     "name": "stdout",
     "output_type": "stream",
     "text": [
      "False\n"
     ]
    }
   ],
   "source": [
    "### Vergleichsoperatoren\n",
    "a : bool = True\n",
    "b : bool = False\n",
    "c : bool = a and b\n",
    "print(c)"
   ]
  },
  {
   "cell_type": "markdown",
   "metadata": {},
   "source": [
    "Beispielsweise lässt sich so automatisiert auswerten, ob wir ein Protein vorliegen haben, das gleichzeitig schwer und toxisch ist."
   ]
  },
  {
   "cell_type": "code",
   "execution_count": 13,
   "metadata": {},
   "outputs": [
    {
     "name": "stdout",
     "output_type": "stream",
     "text": [
      "False\n"
     ]
    }
   ],
   "source": [
    "is_very_heavy_protein : bool = True\n",
    "is_toxic : bool = False\n",
    "is_very_heavy_protein_and_toxic : bool = is_very_heavy_protein and is_toxic\n",
    "print(is_very_heavy_protein_and_toxic)"
   ]
  },
  {
   "cell_type": "markdown",
   "metadata": {},
   "source": [
    "#### Logisches ODER\n",
    "\n",
    "Die Auswertung eines logischen ODER ist wahr, wenn mindestens einer der Operanden wahr ist. In allen anderen Fällen ist das Ergebnis falsch. Dies Operatoren können als Wahrheitstabelle dargestellt werden:\n",
    "\n",
    "| `a` | `b` | `a or b` |\n",
    "|---|---|---------|\n",
    "| `F` | `F` | `F`       |\n",
    "| `F` | `T` | `T`       |\n",
    "| `T` | `F` | `T`       |\n",
    "| `T` | `T` | `T`       |"
   ]
  },
  {
   "cell_type": "code",
   "execution_count": 14,
   "metadata": {},
   "outputs": [
    {
     "name": "stdout",
     "output_type": "stream",
     "text": [
      "True\n"
     ]
    }
   ],
   "source": [
    "is_very_heavy_protein : bool = True\n",
    "is_toxic : bool = False\n",
    "is_either_very_heavy_protein_or_toxic : bool = is_very_heavy_protein or is_toxic\n",
    "print(is_either_very_heavy_protein_or_toxic)"
   ]
  },
  {
   "cell_type": "markdown",
   "metadata": {},
   "source": [
    "#### Logisches NICHT\n",
    "\n",
    "Die Auswertung eines logischen NICHT ist wahr, wenn der Operand falsch ist. In allen anderen Fällen ist das Ergebnis falsch. Dies Operatoren können als Wahrheitstabelle dargestellt werden:\n",
    "\n",
    "| `a` | `not a` |\n",
    "|---|---------|\n",
    "| `F` | `T`       |\n",
    "| `T` | `F`       |"
   ]
  },
  {
   "cell_type": "markdown",
   "metadata": {},
   "source": [
    "#### Verknüpfung von logischen Operatoren\n",
    "\n",
    "Die logischen Operatoren können auch miteinander verknüpft werden. Die Reihenfolge der Auswertung ist dabei wie folgt:\n",
    "* Klammern\n",
    "* NICHT\n",
    "* UND\n",
    "* ODER"
   ]
  },
  {
   "cell_type": "code",
   "execution_count": 15,
   "metadata": {},
   "outputs": [
    {
     "name": "stdout",
     "output_type": "stream",
     "text": [
      "False\n"
     ]
    }
   ],
   "source": [
    "is_very_heavy_protein : bool = True\n",
    "is_toxic : bool = False\n",
    "is_very_light_protein_and_toxic : bool = not(is_very_heavy_protein) and is_toxic\n",
    "print(is_very_light_protein_and_toxic)"
   ]
  },
  {
   "cell_type": "markdown",
   "metadata": {},
   "source": [
    "### Logik Gatter\n",
    "\n",
    "Diese Logischen Operatoren lassen sich elektrotechnisch leicht umsetzen sind sind auch heute noch in miniturisierter Form in jedem Computer verbaut.\n",
    "![](https://blog.to.com/wp-content/uploads/2019/10/2-logikgatter-wie-rechnet-der-computer.jpg)\n"
   ]
  },
  {
   "cell_type": "markdown",
   "metadata": {},
   "source": [
    "### ✍️ Aufgabe: Automatisierte Entscheidung über Vorliegen einer Krankheit\n",
    "\n",
    "Gegeben ist eine vereinfachte Wahrheitstabelle für die Proteinexpression für drei Proteine `prot_A`, `prot_B`, `prot_C` und die Krankheit `K`. Die Wahrheitstabelle beschreibt, bei welchen Expressionsmustern die  Krankheit vor liegt. Schreiben Sie ein Python-Programm, das die Wahrheitstabelle auswertet und entscheidet, ob die Krankheit vorliegt.\n",
    "\n",
    "| `prot_A` | `prot_B` | `prot_C` | `K` |\t\n",
    "|---|---|---|---|\n",
    "| `F` | `F` | `F` | `F` |\n",
    "| `F` | `F` | `T` | `T` |\n",
    "| `F` | `T` | `F` | `F` |\n",
    "| `F` | `T` | `T` | `T` |\n",
    "| `T` | `F` | `F` | `F` |\n",
    "| `T` | `F` | `T` | `F` |\n",
    "| `T` | `T` | `F` | `F` |\n",
    "| `T` | `T` | `T` | `T` |\n",
    "\n",
    "\n",
    "Erstellen Sie einen Ausdruck, der prüft, ob die Krankheit vorliegt und printen Sie das Ergebnis.\n",
    "\n",
    "```python\n",
    "prot_A : bool = False\n",
    "prot_B : bool = True\n",
    "prot_C : bool = False\n",
    "```\n",
    "\n",
    "Gehen Sie wie folgt vor:\n",
    "* beachten Sie nur die Zeilen, die für die der Wert `K` wahr ist\n",
    "* Formulieren Sie für jeder dieser Zeilen eine Bedingung, die wahr ist, wenn die Bedingung erfüllt ist\n",
    "* Verknüpfen Sie die Bedingungen mit dem logischen ODER"
   ]
  },
  {
   "cell_type": "code",
   "execution_count": null,
   "metadata": {},
   "outputs": [],
   "source": []
  },
  {
   "cell_type": "code",
   "execution_count": 16,
   "metadata": {},
   "outputs": [
    {
     "name": "stdout",
     "output_type": "stream",
     "text": [
      "True\n"
     ]
    }
   ],
   "source": [
    "#@title ❓ Click `Show code` in the code cell to show the solution. { display-mode: \"form\" }\n",
    "\n",
    "prot_A : bool = False\n",
    "prot_B : bool = True\n",
    "prot_C : bool = True\n",
    "\n",
    "\n",
    "zeile2 : bool = (not(prot_A) and not(prot_B) and prot_C)\n",
    "zeile4 : bool = (not(prot_A)  and prot_B and prot_C)\n",
    "zeile8 : bool = (prot_A and prot_B and prot_C)\n",
    "\n",
    "k : bool = zeile2 or zeile4 or zeile8\n",
    "\n",
    "print(k)"
   ]
  },
  {
   "cell_type": "markdown",
   "metadata": {},
   "source": [
    "## Strings (Zeichenketten)\n",
    "\n",
    "Häufig müssen wir mit Texten arbeiten, um Informationen an User zu übermitteln oder um Sequenzdaten zu verarbeiten. In Python werden Texte als `str` (für String) bezeichnet. Ein String ist eine Sequenz von Zeichen, die in Anführungszeichen eingeschlossen sind. Python erkennt automatisch, ob ein Wert ein String ist, wenn er in Anführungszeichen eingeschlossen ist. Es gibt drei Möglichkeiten, Strings zu definieren:\n",
    "- mit einfachen Anführungszeichen: `'Hallo'`\n",
    "- mit doppelten Anführungszeichen: `\"Hallo\"`\n",
    "- mit dreifachen Anführungszeichen: `'''Hallo'''` oder `\"\"\"Hallo\"\"\"`\n",
    "Alle drei Varianten sind gleichwertig, aber die doppelten Anführungszeichen sind in der Praxis am häufigsten anzutreffen."
   ]
  },
  {
   "cell_type": "markdown",
   "metadata": {},
   "source": [
    "### Konkatenations-Operator\n",
    "\n",
    "Die Einfachsten Operationen, die wir auf Strings anwenden können, sind die Konkatenation und die Vervielfältigung. Der Konkatenations-Operator `+` verbindet zwei Strings zu einem neuen String. Der Vervielfältigungs-Operator `*` vervielfältigt einen String um eine bestimmte Anzahl von Malen.\n",
    "- Strings können mit dem `+`-Operator aneinandergehängt werden\n",
    "- Strings können mit dem `*`-Operator vervielfacht werden\n",
    "\n",
    "Dies hilft uns z.B. Dabei, Informationen in einer für den User verständlichen Form zu präsentieren. Z.B. können wir Berechnung des Proteingehalts in einer für den User verständlichen Form präsentieren.\n",
    "\n"
   ]
  },
  {
   "cell_type": "code",
   "execution_count": 17,
   "metadata": {},
   "outputs": [
    {
     "name": "stdout",
     "output_type": "stream",
     "text": [
      "True\n",
      "Der Proteingehalt beträgt: 559.38 Dalton\n"
     ]
    }
   ],
   "source": [
    "# Definiere Threshold\n",
    "threshold : int = 500\n",
    "\n",
    "# Definiere die Masse der einzelnen Aminosäuren\n",
    "mass_a_dalton : float = 71.07\n",
    "mass_r_dalton : float = 156.18\n",
    "mass_n_dalton : float = 114.04\n",
    "mass_d_dalton : float = 115.08\n",
    "mass_c_dalton : float = 103.01\n",
    "\n",
    "# Berechne den Proteingehalt\n",
    "protein_content_dalton : float = mass_a_dalton + mass_r_dalton + mass_n_dalton + mass_d_dalton + mass_c_dalton\n",
    "\n",
    "print(protein_content_dalton>threshold)\n",
    "\n",
    "print(\"Der Proteingehalt beträgt: \"+ str(protein_content_dalton) + \" Dalton\")"
   ]
  },
  {
   "cell_type": "markdown",
   "metadata": {},
   "source": [
    "Wichtig ist dabei, dass Python keine automatische Typumwandlung vornimmt. Das bedeutet, dass wir z.B. eine Zahl in einen String umwandeln müssen, wenn wir sie mit einem anderen String verknüpfen wollen. Dazu verwenden wir die Funktion `str()`."
   ]
  },
  {
   "cell_type": "code",
   "execution_count": 18,
   "metadata": {},
   "outputs": [
    {
     "ename": "TypeError",
     "evalue": "can only concatenate str (not \"float\") to str",
     "output_type": "error",
     "traceback": [
      "\u001b[1;31m---------------------------------------------------------------------------\u001b[0m",
      "\u001b[1;31mTypeError\u001b[0m                                 Traceback (most recent call last)",
      "Cell \u001b[1;32mIn[18], line 1\u001b[0m\n\u001b[1;32m----> 1\u001b[0m \u001b[38;5;28mprint\u001b[39m(\u001b[38;5;124;43m\"\u001b[39;49m\u001b[38;5;124;43mDer Proteingehalt beträgt: \u001b[39;49m\u001b[38;5;124;43m\"\u001b[39;49m\u001b[38;5;241;43m+\u001b[39;49m\u001b[43m \u001b[49m\u001b[43mprotein_content_dalton\u001b[49m \u001b[38;5;241m+\u001b[39m \u001b[38;5;124m\"\u001b[39m\u001b[38;5;124m Dalton\u001b[39m\u001b[38;5;124m\"\u001b[39m)\n",
      "\u001b[1;31mTypeError\u001b[0m: can only concatenate str (not \"float\") to str"
     ]
    }
   ],
   "source": [
    "print(\"Der Proteingehalt beträgt: \"+ protein_content_dalton + \" Dalton\")"
   ]
  },
  {
   "cell_type": "markdown",
   "metadata": {},
   "source": [
    "### String-Methoden\n",
    "\n",
    "Methoden sind Funktionen, die auf einem Objekt aufgerufen werden. Ein String ist ein Objekt und hat daher eine Reihe von Methoden, die wir verwenden können, um den String zu manipulieren. Hier sind einige der wichtigsten Methoden:\n",
    "- `upper()` wandelt alle Buchstaben in Großbuchstaben um\n",
    "- `lower()` wandelt alle Buchstaben in Kleinbuchstaben um\n",
    "- `replace()` ersetzt einen Teil des Strings durch einen anderen Teil\n",
    "\n",
    "Beispielsweise wird RNA-Sequenz in Kleinbuchstaben übergeben, die wird mit einer weiteren in Großbuchstaben vergleichen wollen."
   ]
  },
  {
   "cell_type": "code",
   "execution_count": null,
   "metadata": {},
   "outputs": [
    {
     "name": "stdout",
     "output_type": "stream",
     "text": [
      "False\n"
     ]
    }
   ],
   "source": [
    "seq_1 : str = \"ACGT\"\n",
    "seq_2 : str = \"acgt\"\n",
    "\n",
    "print(seq_1 == seq_2)"
   ]
  },
  {
   "cell_type": "markdown",
   "metadata": {},
   "source": [
    "Durch die Anwendung von `upper()` und `lower()` können wir sicherstellen, dass die Groß- und Kleinschreibung keine Rolle spielt."
   ]
  },
  {
   "cell_type": "code",
   "execution_count": null,
   "metadata": {},
   "outputs": [],
   "source": [
    "print(seq_1.upper() == seq_2.upper())"
   ]
  },
  {
   "cell_type": "markdown",
   "metadata": {},
   "source": [
    "Ein weiteres häufiges Problem ist, dass wir in einem String nach einem bestimmten Muster suchen wollen. Dazu verwenden wir die Methode `find()`. Diese Methode gibt die Position des ersten Vorkommens eines Musters in einem String zurück. Wenn das Muster nicht gefunden wird, gibt die Methode `-1` zurück.\n",
    "\n",
    "Der `find()`-Methode können wir in den Klammern Parameter übergeben, die die Suche einschränken. Hierzu ist es wichtig, die [Dokumentation](https://www.w3schools.com/python/ref_string_find.asp) zu lesen, um die Methode korrekt zu verwenden. An den Beispielen erkennen wird, dass die Methode `find()` die Position des ersten Vorkommens eines Musters in einem String zurückgibt und wir ihr einen zweiten String übergeben können, nach dem wir suchen wollen.\n",
    "\n",
    "`<string_in_dem_wir_suchen>.find(<string_den_wir_suchen>)`"
   ]
  },
  {
   "cell_type": "code",
   "execution_count": null,
   "metadata": {},
   "outputs": [
    {
     "name": "stdout",
     "output_type": "stream",
     "text": [
      "Found it at position: 8\n"
     ]
    }
   ],
   "source": [
    "string_in_dem_wir_suchen : str = \"ATGGTACGTCGA\"\n",
    "string_den_wir_suchen : str = \"TCG\"\n",
    "position : int = string_in_dem_wir_suchen.find(string_den_wir_suchen)\n",
    "print(\"Found it at position: \" + str(position))"
   ]
  },
  {
   "cell_type": "markdown",
   "metadata": {},
   "source": [
    "### ✍️ Aufgabe: Angleichen von Sequenzdaten\n",
    "\n",
    "Ein weiteres häufiges Problem ist, dass wird zwei Sequenzen vergleichen wollen, wobei aber z.B. umbenannte Basen (z.B. `U` statt `T`) oder Leerzeichen (z.B. ` ` statt `-`) vorkommen. Bevor wird diese vergleichen können, müssen wir die Sequenzen in eine einheitliche Form bringen.\n",
    "Hier hilft uns die `replace()`-[Methode](https://www.w3schools.com/python/ref_string_replace.asp).\n",
    "\n",
    "`string_den_wir_verändern.replace(<was_wir_ersetzen>, <womit_wir_ersetzen>)`\n",
    "\n",
    "Untersuchen Sie, ob die Sequenz `seq1` in der Sequenz `seq2` vorkommt nachdem Sie mittels `upper()` und `replace()` die Sequenzen in eine einheitliche Form gebracht haben. Speichern Sie das Ergebnis in einer Boolean-Variable `seq1_in_seq2` und printen Sie das Ergebnis.\n"
   ]
  },
  {
   "cell_type": "code",
   "execution_count": null,
   "metadata": {},
   "outputs": [],
   "source": [
    "seq_1 : str = \"ATGGTACGT*CGTACGTCA*TACGTACGTCTA**CGTGGTACGTCGTCTC\"\n",
    "seq_2 : str = \"tcg_g\"\n"
   ]
  },
  {
   "cell_type": "code",
   "execution_count": null,
   "metadata": {},
   "outputs": [
    {
     "name": "stdout",
     "output_type": "stream",
     "text": [
      "Found: False\n"
     ]
    }
   ],
   "source": [
    "#@title ❓ Click `Show code` in the code cell to show the solution. { display-mode: \"form\" }\n",
    "\n",
    "seq_1 : str = \"ATGGTACGT*CGTACGTCA*TACGTACGTCTA**CGTGGTACGTCGTCTC\"\n",
    "seq_2 : str = \"tcg_g\"\n",
    "\n",
    "seq_1 = seq_1.replace(\"*\", \"*\")\n",
    "seq_2 = seq_2.replace(\"_\", \"_\")\n",
    "seq_1 = seq_1.upper()\n",
    "seq_2 = seq_2.upper()\n",
    "position : int = seq_1.find(seq_2)\n",
    "\n",
    "print(\"Found: \" + str(position>=0))"
   ]
  },
  {
   "cell_type": "markdown",
   "metadata": {},
   "source": [
    "### Index- und Slice-Operatoren\n",
    "\n",
    "- Der Index-Operator `[]` gibt das Zeichen an einer bestimmten Position in einem String zurück\n",
    "- Der Slice-Operator `[:]` gibt eine Teilsequenz eines Strings zurück\n",
    "- Der Slice-Operator kann auch mit einem dritten Parameter verwendet werden, um die Schrittweite anzugeben\n",
    "- Der Index-Operator kann auch mit einem negativen Index verwendet we"
   ]
  },
  {
   "cell_type": "markdown",
   "metadata": {},
   "source": [
    "In Python und vielen anderen Sprachen beginnt die Indexierung des ersten Elements mit `0`"
   ]
  },
  {
   "cell_type": "code",
   "execution_count": null,
   "metadata": {},
   "outputs": [
    {
     "data": {
      "text/plain": [
       "'A'"
      ]
     },
     "execution_count": 63,
     "metadata": {},
     "output_type": "execute_result"
    }
   ],
   "source": [
    "seq_1 : str = \"ATGGTACGT*CGTACGTCA*TACGTACGTCTA**CGTGGTACGTCGTCTC\"\n",
    "\n",
    "seq_1[0]"
   ]
  },
  {
   "cell_type": "markdown",
   "metadata": {},
   "source": [
    "Mittels `<start>:<end>` können Bereiche ausgewählt werden"
   ]
  },
  {
   "cell_type": "code",
   "execution_count": null,
   "metadata": {},
   "outputs": [
    {
     "data": {
      "text/plain": [
       "'ATG'"
      ]
     },
     "execution_count": 64,
     "metadata": {},
     "output_type": "execute_result"
    }
   ],
   "source": [
    "seq_1 : str = \"ATGGTACGT*CGTACGTCA*TACGTACGTCTA**CGTGGTACGTCGTCTC\"\n",
    "\n",
    "seq_1[0:3]"
   ]
  },
  {
   "cell_type": "markdown",
   "metadata": {},
   "source": [
    "Dadurch, dass die Nummerierung bei `0` startet, erhalten wir die Position des letzten Elements, indem wir die Länge des Strings verwenden und 1 abziehen. Die Länge eines Strings können wir mit der Funktion `len()` ermitteln."
   ]
  },
  {
   "cell_type": "code",
   "execution_count": null,
   "metadata": {},
   "outputs": [
    {
     "data": {
      "text/plain": [
       "50"
      ]
     },
     "execution_count": 83,
     "metadata": {},
     "output_type": "execute_result"
    }
   ],
   "source": [
    "seq_1 : str = \"ATGGTACGT*CGTACGTCA*TACGTACGTCTA**CGTGGTACGTCGTCTC\"\n",
    "\n",
    "len(seq_1)"
   ]
  },
  {
   "cell_type": "code",
   "execution_count": null,
   "metadata": {},
   "outputs": [
    {
     "ename": "IndexError",
     "evalue": "string index out of range",
     "output_type": "error",
     "traceback": [
      "\u001b[1;31m---------------------------------------------------------------------------\u001b[0m",
      "\u001b[1;31mIndexError\u001b[0m                                Traceback (most recent call last)",
      "Cell \u001b[1;32mIn[84], line 1\u001b[0m\n\u001b[1;32m----> 1\u001b[0m \u001b[43mseq_1\u001b[49m\u001b[43m[\u001b[49m\u001b[38;5;28;43mlen\u001b[39;49m\u001b[43m(\u001b[49m\u001b[43mseq_1\u001b[49m\u001b[43m)\u001b[49m\u001b[43m]\u001b[49m\n",
      "\u001b[1;31mIndexError\u001b[0m: string index out of range"
     ]
    }
   ],
   "source": [
    "seq_1[len(seq_1)]"
   ]
  },
  {
   "cell_type": "code",
   "execution_count": null,
   "metadata": {},
   "outputs": [
    {
     "data": {
      "text/plain": [
       "'C'"
      ]
     },
     "execution_count": 85,
     "metadata": {},
     "output_type": "execute_result"
    }
   ],
   "source": [
    "seq_1[len(seq_1)-1]"
   ]
  },
  {
   "cell_type": "markdown",
   "metadata": {},
   "source": [
    "### 🏆 Aufgabe: Letztes vollständiges Codon\n",
    "\n",
    "Überprüfen Sie die Länge der Sequenz `seq1` und ob die Länge einem Vielfachen von 3 entspricht und printen Sie das letzte vollständige Codon. Behelfen Sie sich dabei, dass Sie die Operatoren `//` und `%` verwenden können. Googlen Sie deren Funktionen."
   ]
  },
  {
   "cell_type": "code",
   "execution_count": null,
   "metadata": {},
   "outputs": [],
   "source": []
  },
  {
   "cell_type": "code",
   "execution_count": null,
   "metadata": {},
   "outputs": [
    {
     "name": "stdout",
     "output_type": "stream",
     "text": [
      "Length: 50\n",
      "The lenth is a multiple of 3: False\n",
      "The last index of the Last codon is: 48\n",
      "The last full codon is: GTC\n"
     ]
    }
   ],
   "source": [
    "#@title ❓ Click `Show code` in the code cell to show the solution. { display-mode: \"form\" }\n",
    "seq_1 :str = \"ATGGTACGT*CGTACGTCA*TACGTACGTCTA**CGTGGTACGTCGTCTC\"\n",
    "\n",
    "lenth_seq1 = len(seq_1)\n",
    "print(\"Length: \" + str(lenth_seq1))\n",
    "\n",
    "is_multiple_3 = lenth_seq1 % 3 == 0\n",
    "print(\"The lenth is a multiple of 3: \" + str(is_multiple_3))\n",
    "\n",
    "last_index = lenth_seq1 // 3 *3\n",
    "print(\"The last index of the Last codon is: \" + str(last_index))\n",
    "\n",
    "print(\"The last full codon is: \" + seq_1[last_index-3:last_index])\n"
   ]
  }
 ],
 "metadata": {
  "kernelspec": {
   "display_name": "Python 3",
   "language": "python",
   "name": "python3"
  },
  "language_info": {
   "codemirror_mode": {
    "name": "ipython",
    "version": 3
   },
   "file_extension": ".py",
   "mimetype": "text/x-python",
   "name": "python",
   "nbconvert_exporter": "python",
   "pygments_lexer": "ipython3",
   "version": "3.12.0"
  }
 },
 "nbformat": 4,
 "nbformat_minor": 2
}
