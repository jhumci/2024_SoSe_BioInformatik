{
 "cells": [
  {
   "cell_type": "markdown",
   "metadata": {},
   "source": [
    "# Statistik und Plots\n",
    "\n",
    "In Ihren Laboren und Abschlussarbeiten werden Sie oft mit tabularen Daten arbeiten. In diesem Notebook werden wir uns mit der Analyse und Visualisierung von Daten beschäftigen. Wir werden die Bibliotheken `pandas` und `seaborn` verwenden, um Daten zu analysieren und zu visualisieren.\n",
    "\n",
    "In diesem Notebook werden Sie eine vielzahl von speziellen Funktionen kennenlernen, die Ihnen helfen, Daten zu analysieren und zu visualisieren. Vielleicht werden Sie sich fragen, wie sie sich diese Funktionen alle merken sollen. Das ist gar nicht nötig. Sie können sich immer an die Dokumentation der Bibliotheken oder KI-Unterstützung wenden, um die Funktionen zu finden, die Sie benötigen. Dafür brauchen Sie aber eine Vorstellung davon, was möglich ist. Das ist der Zweck dieses Notebooks."
   ]
  },
  {
   "cell_type": "markdown",
   "metadata": {},
   "source": [
    "## Pandas und Dataframes\n",
    "\n",
    "Tabulare Daten begegnen uns in vielen Bereichen. Sie können in Form von Excel-Tabellen, CSV-Dateien oder Datenbanken vorliegen. CSV-Dateien können z.B. aussehen, wie das folgende [Beispiel](docs\\data\\palmerpenguins_extended.csv)\n",
    "\n",
    "```csv\n",
    "species,island,bill_length_mm,bill_depth_mm,flipper_length_mm,body_mass_g,sex,diet,life_stage,health_metrics,year\n",
    "Adelie,Biscoe,53.4,17.8,219.0,5687.0,female,fish,adult,overweight,2021\n",
    "Adelie,Biscoe,49.3,18.1,245.0,6811.0,female,fish,adult,overweight,2021\n",
    "Adelie,Biscoe,55.7,16.6,226.0,5388.0,female,fish,adult,overweight,2021\n",
    "```\n"
   ]
  },
  {
   "cell_type": "markdown",
   "metadata": {},
   "source": [
    "### Einlesen von Tabellen\n",
    "\n",
    "Tabulare Daten können wir am besten mit einem [pandas-Dataframe](https://pandas.pydata.org/docs/getting_started/intro_tutorials/01_table_oriented.html) verarbeiten. Ein Dataframe ist eine zweidimensionale Datenstruktur, die Daten in Zeilen und Spalten organisiert. Wir können Daten aus verschiedenen Quellen wie CSV-Dateien, Excel-Tabellen oder Datenbanken in ein Pandas-Dataframe einlesen. "
   ]
  },
  {
   "cell_type": "code",
   "execution_count": 6,
   "metadata": {},
   "outputs": [
    {
     "data": {
      "text/html": [
       "<div>\n",
       "<style scoped>\n",
       "    .dataframe tbody tr th:only-of-type {\n",
       "        vertical-align: middle;\n",
       "    }\n",
       "\n",
       "    .dataframe tbody tr th {\n",
       "        vertical-align: top;\n",
       "    }\n",
       "\n",
       "    .dataframe thead th {\n",
       "        text-align: right;\n",
       "    }\n",
       "</style>\n",
       "<table border=\"1\" class=\"dataframe\">\n",
       "  <thead>\n",
       "    <tr style=\"text-align: right;\">\n",
       "      <th></th>\n",
       "      <th>species</th>\n",
       "      <th>island</th>\n",
       "      <th>bill_length_mm</th>\n",
       "      <th>bill_depth_mm</th>\n",
       "      <th>flipper_length_mm</th>\n",
       "      <th>body_mass_g</th>\n",
       "      <th>sex</th>\n",
       "      <th>diet</th>\n",
       "      <th>life_stage</th>\n",
       "      <th>health_metrics</th>\n",
       "      <th>year</th>\n",
       "    </tr>\n",
       "  </thead>\n",
       "  <tbody>\n",
       "    <tr>\n",
       "      <th>0</th>\n",
       "      <td>Adelie</td>\n",
       "      <td>Biscoe</td>\n",
       "      <td>53.4</td>\n",
       "      <td>17.8</td>\n",
       "      <td>219.0</td>\n",
       "      <td>5687.0</td>\n",
       "      <td>female</td>\n",
       "      <td>fish</td>\n",
       "      <td>adult</td>\n",
       "      <td>overweight</td>\n",
       "      <td>2021</td>\n",
       "    </tr>\n",
       "    <tr>\n",
       "      <th>1</th>\n",
       "      <td>Adelie</td>\n",
       "      <td>Biscoe</td>\n",
       "      <td>49.3</td>\n",
       "      <td>18.1</td>\n",
       "      <td>245.0</td>\n",
       "      <td>6811.0</td>\n",
       "      <td>female</td>\n",
       "      <td>fish</td>\n",
       "      <td>adult</td>\n",
       "      <td>overweight</td>\n",
       "      <td>2021</td>\n",
       "    </tr>\n",
       "    <tr>\n",
       "      <th>2</th>\n",
       "      <td>Adelie</td>\n",
       "      <td>Biscoe</td>\n",
       "      <td>55.7</td>\n",
       "      <td>16.6</td>\n",
       "      <td>226.0</td>\n",
       "      <td>5388.0</td>\n",
       "      <td>female</td>\n",
       "      <td>fish</td>\n",
       "      <td>adult</td>\n",
       "      <td>overweight</td>\n",
       "      <td>2021</td>\n",
       "    </tr>\n",
       "    <tr>\n",
       "      <th>3</th>\n",
       "      <td>Adelie</td>\n",
       "      <td>Biscoe</td>\n",
       "      <td>38.0</td>\n",
       "      <td>15.6</td>\n",
       "      <td>221.0</td>\n",
       "      <td>6262.0</td>\n",
       "      <td>female</td>\n",
       "      <td>fish</td>\n",
       "      <td>adult</td>\n",
       "      <td>overweight</td>\n",
       "      <td>2021</td>\n",
       "    </tr>\n",
       "    <tr>\n",
       "      <th>4</th>\n",
       "      <td>Adelie</td>\n",
       "      <td>Biscoe</td>\n",
       "      <td>60.7</td>\n",
       "      <td>17.9</td>\n",
       "      <td>177.0</td>\n",
       "      <td>4811.0</td>\n",
       "      <td>female</td>\n",
       "      <td>fish</td>\n",
       "      <td>juvenile</td>\n",
       "      <td>overweight</td>\n",
       "      <td>2021</td>\n",
       "    </tr>\n",
       "  </tbody>\n",
       "</table>\n",
       "</div>"
      ],
      "text/plain": [
       "  species  island  bill_length_mm  bill_depth_mm  flipper_length_mm  \\\n",
       "0  Adelie  Biscoe            53.4           17.8              219.0   \n",
       "1  Adelie  Biscoe            49.3           18.1              245.0   \n",
       "2  Adelie  Biscoe            55.7           16.6              226.0   \n",
       "3  Adelie  Biscoe            38.0           15.6              221.0   \n",
       "4  Adelie  Biscoe            60.7           17.9              177.0   \n",
       "\n",
       "   body_mass_g     sex  diet life_stage health_metrics  year  \n",
       "0       5687.0  female  fish      adult     overweight  2021  \n",
       "1       6811.0  female  fish      adult     overweight  2021  \n",
       "2       5388.0  female  fish      adult     overweight  2021  \n",
       "3       6262.0  female  fish      adult     overweight  2021  \n",
       "4       4811.0  female  fish   juvenile     overweight  2021  "
      ]
     },
     "execution_count": 6,
     "metadata": {},
     "output_type": "execute_result"
    }
   ],
   "source": [
    "# Da wird pandas öfter verwendet, deshalb importieren wir es hier mit einer Abkürzung pd\n",
    "import pandas as pd\n",
    "\n",
    "# Hier lesen wir die Daten ein\n",
    "df = pd.read_csv('data/palmerpenguins_extended.csv')\n",
    "\n",
    "# Hier schauen wir uns die ersten 5 Zeilen an\n",
    "df.head()"
   ]
  },
  {
   "cell_type": "markdown",
   "metadata": {},
   "source": [
    "Das `shape` Attribut gibt uns die Anzahl der Zeilen und Spalten zurück. In diesem Fall haben wir 344 Zeilen und 17 Spalten."
   ]
  },
  {
   "cell_type": "code",
   "execution_count": 9,
   "metadata": {},
   "outputs": [
    {
     "data": {
      "text/plain": [
       "(3430, 11)"
      ]
     },
     "execution_count": 9,
     "metadata": {},
     "output_type": "execute_result"
    }
   ],
   "source": [
    "df.shape"
   ]
  },
  {
   "cell_type": "markdown",
   "metadata": {},
   "source": [
    "Wenn wir uns für einzelne Spalten interessieren, können wir diese mit dem Namen der Spalte auswählen. Wie beim Index von Listen oder Schlüssel von Dictionaries, können wir auf die Spalten eines Dataframes mit eckigen Klammern zugreifen. In diesem Fall wählen wir die Spalte `body_mass_g` aus."
   ]
  },
  {
   "cell_type": "code",
   "execution_count": 11,
   "metadata": {},
   "outputs": [
    {
     "data": {
      "text/plain": [
       "0       5687.0\n",
       "1       6811.0\n",
       "2       5388.0\n",
       "3       6262.0\n",
       "4       4811.0\n",
       "         ...  \n",
       "3425    6447.0\n",
       "3426    6872.0\n",
       "3427    7409.0\n",
       "3428    6491.0\n",
       "3429    6835.0\n",
       "Name: body_mass_g, Length: 3430, dtype: float64"
      ]
     },
     "execution_count": 11,
     "metadata": {},
     "output_type": "execute_result"
    }
   ],
   "source": [
    "df[\"body_mass_g\"]"
   ]
  },
  {
   "cell_type": "markdown",
   "metadata": {},
   "source": [
    "Mehre Spalten können wir auswählen, indem wir eine Liste von Spaltennamen in die eckigen Klammern schreiben. In diesem Fall wählen wir die Spalten `species`, `island` und `body_mass_g` aus."
   ]
  },
  {
   "cell_type": "code",
   "execution_count": 13,
   "metadata": {},
   "outputs": [
    {
     "data": {
      "text/html": [
       "<div>\n",
       "<style scoped>\n",
       "    .dataframe tbody tr th:only-of-type {\n",
       "        vertical-align: middle;\n",
       "    }\n",
       "\n",
       "    .dataframe tbody tr th {\n",
       "        vertical-align: top;\n",
       "    }\n",
       "\n",
       "    .dataframe thead th {\n",
       "        text-align: right;\n",
       "    }\n",
       "</style>\n",
       "<table border=\"1\" class=\"dataframe\">\n",
       "  <thead>\n",
       "    <tr style=\"text-align: right;\">\n",
       "      <th></th>\n",
       "      <th>body_mass_g</th>\n",
       "      <th>species</th>\n",
       "      <th>island</th>\n",
       "    </tr>\n",
       "  </thead>\n",
       "  <tbody>\n",
       "    <tr>\n",
       "      <th>0</th>\n",
       "      <td>5687.0</td>\n",
       "      <td>Adelie</td>\n",
       "      <td>Biscoe</td>\n",
       "    </tr>\n",
       "    <tr>\n",
       "      <th>1</th>\n",
       "      <td>6811.0</td>\n",
       "      <td>Adelie</td>\n",
       "      <td>Biscoe</td>\n",
       "    </tr>\n",
       "    <tr>\n",
       "      <th>2</th>\n",
       "      <td>5388.0</td>\n",
       "      <td>Adelie</td>\n",
       "      <td>Biscoe</td>\n",
       "    </tr>\n",
       "    <tr>\n",
       "      <th>3</th>\n",
       "      <td>6262.0</td>\n",
       "      <td>Adelie</td>\n",
       "      <td>Biscoe</td>\n",
       "    </tr>\n",
       "    <tr>\n",
       "      <th>4</th>\n",
       "      <td>4811.0</td>\n",
       "      <td>Adelie</td>\n",
       "      <td>Biscoe</td>\n",
       "    </tr>\n",
       "    <tr>\n",
       "      <th>...</th>\n",
       "      <td>...</td>\n",
       "      <td>...</td>\n",
       "      <td>...</td>\n",
       "    </tr>\n",
       "    <tr>\n",
       "      <th>3425</th>\n",
       "      <td>6447.0</td>\n",
       "      <td>Gentoo</td>\n",
       "      <td>Biscoe</td>\n",
       "    </tr>\n",
       "    <tr>\n",
       "      <th>3426</th>\n",
       "      <td>6872.0</td>\n",
       "      <td>Gentoo</td>\n",
       "      <td>Biscoe</td>\n",
       "    </tr>\n",
       "    <tr>\n",
       "      <th>3427</th>\n",
       "      <td>7409.0</td>\n",
       "      <td>Gentoo</td>\n",
       "      <td>Biscoe</td>\n",
       "    </tr>\n",
       "    <tr>\n",
       "      <th>3428</th>\n",
       "      <td>6491.0</td>\n",
       "      <td>Gentoo</td>\n",
       "      <td>Biscoe</td>\n",
       "    </tr>\n",
       "    <tr>\n",
       "      <th>3429</th>\n",
       "      <td>6835.0</td>\n",
       "      <td>Gentoo</td>\n",
       "      <td>Biscoe</td>\n",
       "    </tr>\n",
       "  </tbody>\n",
       "</table>\n",
       "<p>3430 rows × 3 columns</p>\n",
       "</div>"
      ],
      "text/plain": [
       "      body_mass_g species  island\n",
       "0          5687.0  Adelie  Biscoe\n",
       "1          6811.0  Adelie  Biscoe\n",
       "2          5388.0  Adelie  Biscoe\n",
       "3          6262.0  Adelie  Biscoe\n",
       "4          4811.0  Adelie  Biscoe\n",
       "...           ...     ...     ...\n",
       "3425       6447.0  Gentoo  Biscoe\n",
       "3426       6872.0  Gentoo  Biscoe\n",
       "3427       7409.0  Gentoo  Biscoe\n",
       "3428       6491.0  Gentoo  Biscoe\n",
       "3429       6835.0  Gentoo  Biscoe\n",
       "\n",
       "[3430 rows x 3 columns]"
      ]
     },
     "execution_count": 13,
     "metadata": {},
     "output_type": "execute_result"
    }
   ],
   "source": [
    "df[[\"body_mass_g\", \"species\",\"island\"]]"
   ]
  },
  {
   "cell_type": "markdown",
   "metadata": {},
   "source": [
    "Zeilen können Sie über den Index auswählen. Der Index die sie Spalte, die jeder Zeile einen Namen gibt. In unserem Fall sind dies sie Zahlen von 0 bis 3430. Wir können auch Zeilen über den Index auswählen, indem wir die Methode `loc` verwenden, wie wie der Zugriff auf den Index in Listen funktioniert. In diesem Fall wählen wir die Zeilen 0 bis 3 aus."
   ]
  },
  {
   "cell_type": "code",
   "execution_count": 14,
   "metadata": {},
   "outputs": [
    {
     "data": {
      "text/html": [
       "<div>\n",
       "<style scoped>\n",
       "    .dataframe tbody tr th:only-of-type {\n",
       "        vertical-align: middle;\n",
       "    }\n",
       "\n",
       "    .dataframe tbody tr th {\n",
       "        vertical-align: top;\n",
       "    }\n",
       "\n",
       "    .dataframe thead th {\n",
       "        text-align: right;\n",
       "    }\n",
       "</style>\n",
       "<table border=\"1\" class=\"dataframe\">\n",
       "  <thead>\n",
       "    <tr style=\"text-align: right;\">\n",
       "      <th></th>\n",
       "      <th>species</th>\n",
       "      <th>island</th>\n",
       "      <th>bill_length_mm</th>\n",
       "      <th>bill_depth_mm</th>\n",
       "      <th>flipper_length_mm</th>\n",
       "      <th>body_mass_g</th>\n",
       "      <th>sex</th>\n",
       "      <th>diet</th>\n",
       "      <th>life_stage</th>\n",
       "      <th>health_metrics</th>\n",
       "      <th>year</th>\n",
       "    </tr>\n",
       "  </thead>\n",
       "  <tbody>\n",
       "    <tr>\n",
       "      <th>0</th>\n",
       "      <td>Adelie</td>\n",
       "      <td>Biscoe</td>\n",
       "      <td>53.4</td>\n",
       "      <td>17.8</td>\n",
       "      <td>219.0</td>\n",
       "      <td>5687.0</td>\n",
       "      <td>female</td>\n",
       "      <td>fish</td>\n",
       "      <td>adult</td>\n",
       "      <td>overweight</td>\n",
       "      <td>2021</td>\n",
       "    </tr>\n",
       "    <tr>\n",
       "      <th>1</th>\n",
       "      <td>Adelie</td>\n",
       "      <td>Biscoe</td>\n",
       "      <td>49.3</td>\n",
       "      <td>18.1</td>\n",
       "      <td>245.0</td>\n",
       "      <td>6811.0</td>\n",
       "      <td>female</td>\n",
       "      <td>fish</td>\n",
       "      <td>adult</td>\n",
       "      <td>overweight</td>\n",
       "      <td>2021</td>\n",
       "    </tr>\n",
       "    <tr>\n",
       "      <th>2</th>\n",
       "      <td>Adelie</td>\n",
       "      <td>Biscoe</td>\n",
       "      <td>55.7</td>\n",
       "      <td>16.6</td>\n",
       "      <td>226.0</td>\n",
       "      <td>5388.0</td>\n",
       "      <td>female</td>\n",
       "      <td>fish</td>\n",
       "      <td>adult</td>\n",
       "      <td>overweight</td>\n",
       "      <td>2021</td>\n",
       "    </tr>\n",
       "    <tr>\n",
       "      <th>3</th>\n",
       "      <td>Adelie</td>\n",
       "      <td>Biscoe</td>\n",
       "      <td>38.0</td>\n",
       "      <td>15.6</td>\n",
       "      <td>221.0</td>\n",
       "      <td>6262.0</td>\n",
       "      <td>female</td>\n",
       "      <td>fish</td>\n",
       "      <td>adult</td>\n",
       "      <td>overweight</td>\n",
       "      <td>2021</td>\n",
       "    </tr>\n",
       "  </tbody>\n",
       "</table>\n",
       "</div>"
      ],
      "text/plain": [
       "  species  island  bill_length_mm  bill_depth_mm  flipper_length_mm  \\\n",
       "0  Adelie  Biscoe            53.4           17.8              219.0   \n",
       "1  Adelie  Biscoe            49.3           18.1              245.0   \n",
       "2  Adelie  Biscoe            55.7           16.6              226.0   \n",
       "3  Adelie  Biscoe            38.0           15.6              221.0   \n",
       "\n",
       "   body_mass_g     sex  diet life_stage health_metrics  year  \n",
       "0       5687.0  female  fish      adult     overweight  2021  \n",
       "1       6811.0  female  fish      adult     overweight  2021  \n",
       "2       5388.0  female  fish      adult     overweight  2021  \n",
       "3       6262.0  female  fish      adult     overweight  2021  "
      ]
     },
     "execution_count": 14,
     "metadata": {},
     "output_type": "execute_result"
    }
   ],
   "source": [
    "df.loc[0:3]"
   ]
  },
  {
   "cell_type": "markdown",
   "metadata": {},
   "source": [
    "##### ✍️ Aufgabe: Finden Sie den schwersten Pinguin\n",
    "\n",
    "![](images/image.png)\n",
    "\n",
    "Hierzu müssen Sie zunächst die Spalte `body_mass_g` auswählen und dann die Methode `sort_values(<column_name>)` verwenden, der Sie den Namen der Spalte übergeben nach der Sie sortieren möchten. Die Methode `sort_values` gibt ein neues Dataframe zurück, das die sortierten Werte enthält. Sie können dann die Methoden `head()` und `tail()` verwenden, um die ersten und letzten Zeilen des Dataframes zu erhalten. \n",
    "\n",
    "What is his/her favorite food?"
   ]
  },
  {
   "cell_type": "code",
   "execution_count": null,
   "metadata": {},
   "outputs": [],
   "source": []
  },
  {
   "cell_type": "code",
   "execution_count": 18,
   "metadata": {},
   "outputs": [
    {
     "data": {
      "text/html": [
       "<div>\n",
       "<style scoped>\n",
       "    .dataframe tbody tr th:only-of-type {\n",
       "        vertical-align: middle;\n",
       "    }\n",
       "\n",
       "    .dataframe tbody tr th {\n",
       "        vertical-align: top;\n",
       "    }\n",
       "\n",
       "    .dataframe thead th {\n",
       "        text-align: right;\n",
       "    }\n",
       "</style>\n",
       "<table border=\"1\" class=\"dataframe\">\n",
       "  <thead>\n",
       "    <tr style=\"text-align: right;\">\n",
       "      <th></th>\n",
       "      <th>species</th>\n",
       "      <th>island</th>\n",
       "      <th>bill_length_mm</th>\n",
       "      <th>bill_depth_mm</th>\n",
       "      <th>flipper_length_mm</th>\n",
       "      <th>body_mass_g</th>\n",
       "      <th>sex</th>\n",
       "      <th>diet</th>\n",
       "      <th>life_stage</th>\n",
       "      <th>health_metrics</th>\n",
       "      <th>year</th>\n",
       "    </tr>\n",
       "  </thead>\n",
       "  <tbody>\n",
       "    <tr>\n",
       "      <th>1561</th>\n",
       "      <td>Gentoo</td>\n",
       "      <td>Biscoe</td>\n",
       "      <td>67.4</td>\n",
       "      <td>20.8</td>\n",
       "      <td>244.0</td>\n",
       "      <td>10549.0</td>\n",
       "      <td>male</td>\n",
       "      <td>fish</td>\n",
       "      <td>adult</td>\n",
       "      <td>overweight</td>\n",
       "      <td>2023</td>\n",
       "    </tr>\n",
       "  </tbody>\n",
       "</table>\n",
       "</div>"
      ],
      "text/plain": [
       "     species  island  bill_length_mm  bill_depth_mm  flipper_length_mm  \\\n",
       "1561  Gentoo  Biscoe            67.4           20.8              244.0   \n",
       "\n",
       "      body_mass_g   sex  diet life_stage health_metrics  year  \n",
       "1561      10549.0  male  fish      adult     overweight  2023  "
      ]
     },
     "execution_count": 18,
     "metadata": {},
     "output_type": "execute_result"
    }
   ],
   "source": [
    "#@title ❓ Click `Show code` in the code cell to show the solution. { display-mode: \"form\" }\n",
    "\n",
    "df.sort_values('body_mass_g').tail(1)"
   ]
  },
  {
   "cell_type": "code",
   "execution_count": 17,
   "metadata": {},
   "outputs": [
    {
     "data": {
      "text/plain": [
       "1561    fish\n",
       "Name: diet, dtype: object"
      ]
     },
     "execution_count": 17,
     "metadata": {},
     "output_type": "execute_result"
    }
   ],
   "source": [
    "#@title ❓ Click `Show code` in the code cell to show the solution. { display-mode: \"form\" }\n",
    "\n",
    "df.sort_values('body_mass_g').tail(1)[\"diet\"]"
   ]
  },
  {
   "cell_type": "markdown",
   "metadata": {},
   "source": [
    "#### Filtern\n",
    "\n",
    "Häufig wollen wir nicht den ganzen Datenbestand sehen, sondern nur bestimmte Einträge, die verschiedene Bedingungen erfüllen. Hierzu können wir die Methode `query` verwenden. Die Methode `query` nimmt einen String als Argument, der die Bedingungen enthält, die die Einträge erfüllen müssen. \n",
    "\n",
    "Wenn wir nun eine Liste vor uns hätten könnten wir uns mit einem einfachen `for`-Loop und einer überprüfung der Bedingung die weiblichen Pinguine ausgeben lassen. \n",
    "\n",
    "Das Paket `pandas` bietet uns hierfür verschiedene Methoden an. Eine davon ist die Methode `query`. Diese Methode nimmt einen String als Argument, der die Bedingungen enthält, die die Einträge erfüllen müssen.\n",
    "\n",
    "In diesem Fall wählen wir die Einträge aus, bei denen die Spalte `body_mass_g` größer als 6000 ist.\n"
   ]
  },
  {
   "cell_type": "code",
   "execution_count": 24,
   "metadata": {},
   "outputs": [
    {
     "data": {
      "text/html": [
       "<div>\n",
       "<style scoped>\n",
       "    .dataframe tbody tr th:only-of-type {\n",
       "        vertical-align: middle;\n",
       "    }\n",
       "\n",
       "    .dataframe tbody tr th {\n",
       "        vertical-align: top;\n",
       "    }\n",
       "\n",
       "    .dataframe thead th {\n",
       "        text-align: right;\n",
       "    }\n",
       "</style>\n",
       "<table border=\"1\" class=\"dataframe\">\n",
       "  <thead>\n",
       "    <tr style=\"text-align: right;\">\n",
       "      <th></th>\n",
       "      <th>species</th>\n",
       "      <th>island</th>\n",
       "      <th>bill_length_mm</th>\n",
       "      <th>bill_depth_mm</th>\n",
       "      <th>flipper_length_mm</th>\n",
       "      <th>body_mass_g</th>\n",
       "      <th>sex</th>\n",
       "      <th>diet</th>\n",
       "      <th>life_stage</th>\n",
       "      <th>health_metrics</th>\n",
       "      <th>year</th>\n",
       "    </tr>\n",
       "  </thead>\n",
       "  <tbody>\n",
       "    <tr>\n",
       "      <th>1</th>\n",
       "      <td>Adelie</td>\n",
       "      <td>Biscoe</td>\n",
       "      <td>49.3</td>\n",
       "      <td>18.1</td>\n",
       "      <td>245.0</td>\n",
       "      <td>6811.0</td>\n",
       "      <td>female</td>\n",
       "      <td>fish</td>\n",
       "      <td>adult</td>\n",
       "      <td>overweight</td>\n",
       "      <td>2021</td>\n",
       "    </tr>\n",
       "    <tr>\n",
       "      <th>3</th>\n",
       "      <td>Adelie</td>\n",
       "      <td>Biscoe</td>\n",
       "      <td>38.0</td>\n",
       "      <td>15.6</td>\n",
       "      <td>221.0</td>\n",
       "      <td>6262.0</td>\n",
       "      <td>female</td>\n",
       "      <td>fish</td>\n",
       "      <td>adult</td>\n",
       "      <td>overweight</td>\n",
       "      <td>2021</td>\n",
       "    </tr>\n",
       "    <tr>\n",
       "      <th>7</th>\n",
       "      <td>Adelie</td>\n",
       "      <td>Biscoe</td>\n",
       "      <td>66.1</td>\n",
       "      <td>20.8</td>\n",
       "      <td>246.0</td>\n",
       "      <td>6653.0</td>\n",
       "      <td>male</td>\n",
       "      <td>fish</td>\n",
       "      <td>adult</td>\n",
       "      <td>overweight</td>\n",
       "      <td>2021</td>\n",
       "    </tr>\n",
       "    <tr>\n",
       "      <th>8</th>\n",
       "      <td>Adelie</td>\n",
       "      <td>Biscoe</td>\n",
       "      <td>61.4</td>\n",
       "      <td>19.9</td>\n",
       "      <td>270.0</td>\n",
       "      <td>6722.0</td>\n",
       "      <td>male</td>\n",
       "      <td>fish</td>\n",
       "      <td>adult</td>\n",
       "      <td>overweight</td>\n",
       "      <td>2021</td>\n",
       "    </tr>\n",
       "    <tr>\n",
       "      <th>9</th>\n",
       "      <td>Adelie</td>\n",
       "      <td>Biscoe</td>\n",
       "      <td>54.9</td>\n",
       "      <td>22.3</td>\n",
       "      <td>230.0</td>\n",
       "      <td>6494.0</td>\n",
       "      <td>male</td>\n",
       "      <td>fish</td>\n",
       "      <td>adult</td>\n",
       "      <td>overweight</td>\n",
       "      <td>2021</td>\n",
       "    </tr>\n",
       "    <tr>\n",
       "      <th>...</th>\n",
       "      <td>...</td>\n",
       "      <td>...</td>\n",
       "      <td>...</td>\n",
       "      <td>...</td>\n",
       "      <td>...</td>\n",
       "      <td>...</td>\n",
       "      <td>...</td>\n",
       "      <td>...</td>\n",
       "      <td>...</td>\n",
       "      <td>...</td>\n",
       "      <td>...</td>\n",
       "    </tr>\n",
       "    <tr>\n",
       "      <th>3425</th>\n",
       "      <td>Gentoo</td>\n",
       "      <td>Biscoe</td>\n",
       "      <td>44.0</td>\n",
       "      <td>20.4</td>\n",
       "      <td>252.0</td>\n",
       "      <td>6447.0</td>\n",
       "      <td>male</td>\n",
       "      <td>squid</td>\n",
       "      <td>adult</td>\n",
       "      <td>healthy</td>\n",
       "      <td>2025</td>\n",
       "    </tr>\n",
       "    <tr>\n",
       "      <th>3426</th>\n",
       "      <td>Gentoo</td>\n",
       "      <td>Biscoe</td>\n",
       "      <td>54.5</td>\n",
       "      <td>25.2</td>\n",
       "      <td>245.0</td>\n",
       "      <td>6872.0</td>\n",
       "      <td>male</td>\n",
       "      <td>squid</td>\n",
       "      <td>adult</td>\n",
       "      <td>healthy</td>\n",
       "      <td>2025</td>\n",
       "    </tr>\n",
       "    <tr>\n",
       "      <th>3427</th>\n",
       "      <td>Gentoo</td>\n",
       "      <td>Biscoe</td>\n",
       "      <td>51.4</td>\n",
       "      <td>20.4</td>\n",
       "      <td>258.0</td>\n",
       "      <td>7409.0</td>\n",
       "      <td>male</td>\n",
       "      <td>squid</td>\n",
       "      <td>adult</td>\n",
       "      <td>overweight</td>\n",
       "      <td>2025</td>\n",
       "    </tr>\n",
       "    <tr>\n",
       "      <th>3428</th>\n",
       "      <td>Gentoo</td>\n",
       "      <td>Biscoe</td>\n",
       "      <td>55.9</td>\n",
       "      <td>20.5</td>\n",
       "      <td>247.0</td>\n",
       "      <td>6491.0</td>\n",
       "      <td>male</td>\n",
       "      <td>squid</td>\n",
       "      <td>adult</td>\n",
       "      <td>healthy</td>\n",
       "      <td>2025</td>\n",
       "    </tr>\n",
       "    <tr>\n",
       "      <th>3429</th>\n",
       "      <td>Gentoo</td>\n",
       "      <td>Biscoe</td>\n",
       "      <td>43.9</td>\n",
       "      <td>22.9</td>\n",
       "      <td>206.0</td>\n",
       "      <td>6835.0</td>\n",
       "      <td>male</td>\n",
       "      <td>squid</td>\n",
       "      <td>adult</td>\n",
       "      <td>healthy</td>\n",
       "      <td>2025</td>\n",
       "    </tr>\n",
       "  </tbody>\n",
       "</table>\n",
       "<p>624 rows × 11 columns</p>\n",
       "</div>"
      ],
      "text/plain": [
       "     species  island  bill_length_mm  bill_depth_mm  flipper_length_mm  \\\n",
       "1     Adelie  Biscoe            49.3           18.1              245.0   \n",
       "3     Adelie  Biscoe            38.0           15.6              221.0   \n",
       "7     Adelie  Biscoe            66.1           20.8              246.0   \n",
       "8     Adelie  Biscoe            61.4           19.9              270.0   \n",
       "9     Adelie  Biscoe            54.9           22.3              230.0   \n",
       "...      ...     ...             ...            ...                ...   \n",
       "3425  Gentoo  Biscoe            44.0           20.4              252.0   \n",
       "3426  Gentoo  Biscoe            54.5           25.2              245.0   \n",
       "3427  Gentoo  Biscoe            51.4           20.4              258.0   \n",
       "3428  Gentoo  Biscoe            55.9           20.5              247.0   \n",
       "3429  Gentoo  Biscoe            43.9           22.9              206.0   \n",
       "\n",
       "      body_mass_g     sex   diet life_stage health_metrics  year  \n",
       "1          6811.0  female   fish      adult     overweight  2021  \n",
       "3          6262.0  female   fish      adult     overweight  2021  \n",
       "7          6653.0    male   fish      adult     overweight  2021  \n",
       "8          6722.0    male   fish      adult     overweight  2021  \n",
       "9          6494.0    male   fish      adult     overweight  2021  \n",
       "...           ...     ...    ...        ...            ...   ...  \n",
       "3425       6447.0    male  squid      adult        healthy  2025  \n",
       "3426       6872.0    male  squid      adult        healthy  2025  \n",
       "3427       7409.0    male  squid      adult     overweight  2025  \n",
       "3428       6491.0    male  squid      adult        healthy  2025  \n",
       "3429       6835.0    male  squid      adult        healthy  2025  \n",
       "\n",
       "[624 rows x 11 columns]"
      ]
     },
     "execution_count": 24,
     "metadata": {},
     "output_type": "execute_result"
    }
   ],
   "source": [
    "df.query('body_mass_g > 6000')"
   ]
  },
  {
   "cell_type": "markdown",
   "metadata": {},
   "source": [
    "Hierbei können wir auch eine Logisches und oder oder verwenden:"
   ]
  },
  {
   "cell_type": "code",
   "execution_count": null,
   "metadata": {},
   "outputs": [],
   "source": [
    "df.query('body_mass_g > 6000 and diet == \"squid\"')"
   ]
  },
  {
   "cell_type": "markdown",
   "metadata": {},
   "source": [
    "##### ✍️ Aufgabe: Finden Sie den schwersten weiblichen Pinguin \n",
    "\n",
    "Diese soll sich noch in der Lebensstufe `\"juvenile\"` befinden."
   ]
  },
  {
   "cell_type": "code",
   "execution_count": null,
   "metadata": {},
   "outputs": [],
   "source": []
  },
  {
   "cell_type": "code",
   "execution_count": 26,
   "metadata": {},
   "outputs": [
    {
     "data": {
      "text/html": [
       "<div>\n",
       "<style scoped>\n",
       "    .dataframe tbody tr th:only-of-type {\n",
       "        vertical-align: middle;\n",
       "    }\n",
       "\n",
       "    .dataframe tbody tr th {\n",
       "        vertical-align: top;\n",
       "    }\n",
       "\n",
       "    .dataframe thead th {\n",
       "        text-align: right;\n",
       "    }\n",
       "</style>\n",
       "<table border=\"1\" class=\"dataframe\">\n",
       "  <thead>\n",
       "    <tr style=\"text-align: right;\">\n",
       "      <th></th>\n",
       "      <th>species</th>\n",
       "      <th>island</th>\n",
       "      <th>bill_length_mm</th>\n",
       "      <th>bill_depth_mm</th>\n",
       "      <th>flipper_length_mm</th>\n",
       "      <th>body_mass_g</th>\n",
       "      <th>sex</th>\n",
       "      <th>diet</th>\n",
       "      <th>life_stage</th>\n",
       "      <th>health_metrics</th>\n",
       "      <th>year</th>\n",
       "    </tr>\n",
       "  </thead>\n",
       "  <tbody>\n",
       "    <tr>\n",
       "      <th>2335</th>\n",
       "      <td>Gentoo</td>\n",
       "      <td>Biscoe</td>\n",
       "      <td>52.4</td>\n",
       "      <td>18.2</td>\n",
       "      <td>198.0</td>\n",
       "      <td>7231.0</td>\n",
       "      <td>female</td>\n",
       "      <td>fish</td>\n",
       "      <td>juvenile</td>\n",
       "      <td>overweight</td>\n",
       "      <td>2024</td>\n",
       "    </tr>\n",
       "  </tbody>\n",
       "</table>\n",
       "</div>"
      ],
      "text/plain": [
       "     species  island  bill_length_mm  bill_depth_mm  flipper_length_mm  \\\n",
       "2335  Gentoo  Biscoe            52.4           18.2              198.0   \n",
       "\n",
       "      body_mass_g     sex  diet life_stage health_metrics  year  \n",
       "2335       7231.0  female  fish   juvenile     overweight  2024  "
      ]
     },
     "execution_count": 26,
     "metadata": {},
     "output_type": "execute_result"
    }
   ],
   "source": [
    "#@title ❓ Click `Show code` in the code cell to show the solution. { display-mode: \"form\" }\n",
    "\n",
    "df.query('sex == \"female\" and life_stage == \"juvenile\"').sort_values('body_mass_g').tail(1)"
   ]
  },
  {
   "cell_type": "markdown",
   "metadata": {},
   "source": [
    "### Statistische Funktionen\n",
    "\n",
    "Wir können So sehr schnell [statistische Funktionen](https://pandas.pydata.org/docs/getting_started/intro_tutorials/06_calculate_statistics.html) auf die Daten anwenden. Mit der `describe` Funktion erhalten wir eine Zusammenfassung der statistischen Kennzahlen für die numerischen Spalten.\n",
    "\n",
    "Die umfassendste Funktion is `describe()`. Diese Funktion gibt uns eine Zusammenfassung der statistischen Kennzahlen für die numerischen Spalten."
   ]
  },
  {
   "cell_type": "code",
   "execution_count": 28,
   "metadata": {},
   "outputs": [
    {
     "data": {
      "text/html": [
       "<div>\n",
       "<style scoped>\n",
       "    .dataframe tbody tr th:only-of-type {\n",
       "        vertical-align: middle;\n",
       "    }\n",
       "\n",
       "    .dataframe tbody tr th {\n",
       "        vertical-align: top;\n",
       "    }\n",
       "\n",
       "    .dataframe thead th {\n",
       "        text-align: right;\n",
       "    }\n",
       "</style>\n",
       "<table border=\"1\" class=\"dataframe\">\n",
       "  <thead>\n",
       "    <tr style=\"text-align: right;\">\n",
       "      <th></th>\n",
       "      <th>bill_length_mm</th>\n",
       "      <th>bill_depth_mm</th>\n",
       "      <th>flipper_length_mm</th>\n",
       "      <th>body_mass_g</th>\n",
       "      <th>year</th>\n",
       "    </tr>\n",
       "  </thead>\n",
       "  <tbody>\n",
       "    <tr>\n",
       "      <th>count</th>\n",
       "      <td>3430.000000</td>\n",
       "      <td>3430.000000</td>\n",
       "      <td>3430.000000</td>\n",
       "      <td>3430.000000</td>\n",
       "      <td>3430.000000</td>\n",
       "    </tr>\n",
       "    <tr>\n",
       "      <th>mean</th>\n",
       "      <td>38.529825</td>\n",
       "      <td>18.447143</td>\n",
       "      <td>207.028863</td>\n",
       "      <td>4834.710496</td>\n",
       "      <td>2023.348397</td>\n",
       "    </tr>\n",
       "    <tr>\n",
       "      <th>std</th>\n",
       "      <td>13.175171</td>\n",
       "      <td>2.774428</td>\n",
       "      <td>28.944765</td>\n",
       "      <td>1311.091310</td>\n",
       "      <td>1.313797</td>\n",
       "    </tr>\n",
       "    <tr>\n",
       "      <th>min</th>\n",
       "      <td>13.600000</td>\n",
       "      <td>9.100000</td>\n",
       "      <td>140.000000</td>\n",
       "      <td>2477.000000</td>\n",
       "      <td>2021.000000</td>\n",
       "    </tr>\n",
       "    <tr>\n",
       "      <th>25%</th>\n",
       "      <td>28.900000</td>\n",
       "      <td>16.600000</td>\n",
       "      <td>185.000000</td>\n",
       "      <td>3843.500000</td>\n",
       "      <td>2022.000000</td>\n",
       "    </tr>\n",
       "    <tr>\n",
       "      <th>50%</th>\n",
       "      <td>34.500000</td>\n",
       "      <td>18.400000</td>\n",
       "      <td>203.000000</td>\n",
       "      <td>4633.500000</td>\n",
       "      <td>2024.000000</td>\n",
       "    </tr>\n",
       "    <tr>\n",
       "      <th>75%</th>\n",
       "      <td>46.600000</td>\n",
       "      <td>20.300000</td>\n",
       "      <td>226.000000</td>\n",
       "      <td>5622.000000</td>\n",
       "      <td>2024.000000</td>\n",
       "    </tr>\n",
       "    <tr>\n",
       "      <th>max</th>\n",
       "      <td>88.200000</td>\n",
       "      <td>27.900000</td>\n",
       "      <td>308.000000</td>\n",
       "      <td>10549.000000</td>\n",
       "      <td>2025.000000</td>\n",
       "    </tr>\n",
       "  </tbody>\n",
       "</table>\n",
       "</div>"
      ],
      "text/plain": [
       "       bill_length_mm  bill_depth_mm  flipper_length_mm   body_mass_g  \\\n",
       "count     3430.000000    3430.000000        3430.000000   3430.000000   \n",
       "mean        38.529825      18.447143         207.028863   4834.710496   \n",
       "std         13.175171       2.774428          28.944765   1311.091310   \n",
       "min         13.600000       9.100000         140.000000   2477.000000   \n",
       "25%         28.900000      16.600000         185.000000   3843.500000   \n",
       "50%         34.500000      18.400000         203.000000   4633.500000   \n",
       "75%         46.600000      20.300000         226.000000   5622.000000   \n",
       "max         88.200000      27.900000         308.000000  10549.000000   \n",
       "\n",
       "              year  \n",
       "count  3430.000000  \n",
       "mean   2023.348397  \n",
       "std       1.313797  \n",
       "min    2021.000000  \n",
       "25%    2022.000000  \n",
       "50%    2024.000000  \n",
       "75%    2024.000000  \n",
       "max    2025.000000  "
      ]
     },
     "execution_count": 28,
     "metadata": {},
     "output_type": "execute_result"
    }
   ],
   "source": [
    "df.describe()"
   ]
  },
  {
   "cell_type": "markdown",
   "metadata": {},
   "source": [
    "Natürlich können wir auch einzelne statistische Kennzahlen berechnen. Hierzu können wir die Methoden `mean`, `median`, `min`, `max`, `std` und `var` verwenden.\n",
    "\n",
    "Beispielweise die das Durchschnittsgewicht der Pinguine, die sich von Fisch ernähren."
   ]
  },
  {
   "cell_type": "code",
   "execution_count": 34,
   "metadata": {},
   "outputs": [
    {
     "data": {
      "text/plain": [
       "6173.379958246346"
      ]
     },
     "execution_count": 34,
     "metadata": {},
     "output_type": "execute_result"
    }
   ],
   "source": [
    "df.query('diet == \"fish\"')[\"body_mass_g\"].mean()"
   ]
  },
  {
   "cell_type": "markdown",
   "metadata": {},
   "source": [
    "### Gruppieren von Daten\n",
    "\n",
    "Nun stellt sich natürlich die Frage, ob sich die Ernährungsgewohnheiten der Pinguine auf das Gewicht auswirken. Hierzu können wir die Daten gruppieren und dann statistische Kennzahlen berechnen. Wieder käme ein `for`-Loop in Frage, aber auch hier bietet uns `pandas` eine elegantere Lösung an. Dieser Befehl lautet `groupby`:"
   ]
  },
  {
   "cell_type": "code",
   "execution_count": 35,
   "metadata": {},
   "outputs": [
    {
     "data": {
      "text/plain": [
       "diet\n",
       "fish        6173.379958\n",
       "krill       4627.906977\n",
       "parental    3530.867442\n",
       "squid       5520.274611\n",
       "Name: body_mass_g, dtype: float64"
      ]
     },
     "execution_count": 35,
     "metadata": {},
     "output_type": "execute_result"
    }
   ],
   "source": [
    "df.groupby('diet')[\"body_mass_g\"].mean()"
   ]
  },
  {
   "cell_type": "markdown",
   "metadata": {},
   "source": [
    "Unklar ist jedoch in wie weit sich das Gewicht nur durch die Ernährungsgewohnheiten erklären lässt oder ob hier auch das Geschlecht eine Rolle spielt.\n",
    "\n"
   ]
  },
  {
   "cell_type": "markdown",
   "metadata": {},
   "source": [
    "##### ✍️ Aufgabe: Berechnen Sie das Durchschnittsgewicht der Pinguine der Spezies `\"Adelie\"` und gruppiert nach Geschlecht und Ernährungsgewohnheiten.\n",
    "\n",
    "Wenn Sie doppelt gruppieren wollen, können Sie eine Liste von Spaltennamen an die Methode `groupby([\"diet\",\"sex\"])` übergeben"
   ]
  },
  {
   "cell_type": "code",
   "execution_count": null,
   "metadata": {},
   "outputs": [],
   "source": []
  },
  {
   "cell_type": "code",
   "execution_count": 36,
   "metadata": {},
   "outputs": [
    {
     "data": {
      "text/plain": [
       "diet      sex   \n",
       "fish      female    5189.405660\n",
       "          male      6184.761628\n",
       "krill     female    3987.316265\n",
       "          male      4785.395894\n",
       "parental  female    3008.362319\n",
       "          male      3601.914692\n",
       "squid     female    4606.692308\n",
       "          male      5500.086957\n",
       "Name: body_mass_g, dtype: float64"
      ]
     },
     "execution_count": 36,
     "metadata": {},
     "output_type": "execute_result"
    }
   ],
   "source": [
    "#@title ❓ Click `Show code` in the code cell to show the solution. { display-mode: \"form\" }\n",
    "\n",
    "df.query(\"species == 'Adelie'\").groupby([\"diet\",\"sex\"])[\"body_mass_g\"].mean()"
   ]
  },
  {
   "cell_type": "markdown",
   "metadata": {},
   "source": [
    "## Plots mit `seaborn`\n",
    "\n",
    "Nun wollen wir die Daten visualisieren. Hierzu können wir die Bibliothek `seaborn` verwenden. `seaborn` ist eine Bibliothek, die auf `matplotlib` aufbaut und eine einfachere und schönere API bietet.\n",
    "\n",
    "Soweit haben wir ausgewertet, wie Geschlecht und Ernährungsgewohnheiten das Gewicht beeinflussen. Können Sie auf einen Blick erkennen, wie sich das Gewicht der Pinguine in den verschiedenen Gruppen unterscheidet?\n",
    "\n",
    "Damit dies leichter fällt, möchten wir die Daten visualisieren. Zunächst müssen wir uns Gedanken machen, welche Art von Plot wir verwenden wollen. Hierfür bietet `seaborn` eine Vielzahl von [Plots](https://seaborn.pydata.org/tutorial/function_overview.html) an. In diesem Fall wollen wir die Methode `barplot` verwenden, die uns die Mittelwerte der Gruppen anzeigt. In der [Example-Galerie](https://seaborn.pydata.org/examples/index.html) von `seaborn` finden Sie viele Beispiele, wie Sie die Daten visualisieren können. Zum Beispiel können Sie sich die [Beispiele für barplots](https://seaborn.pydata.org/examples/grouped_barplot.html) ansehen"
   ]
  },
  {
   "cell_type": "code",
   "execution_count": 56,
   "metadata": {},
   "outputs": [
    {
     "data": {
      "image/png": "[encoded data removed]",
      "text/plain": [
       "<Figure size 640x480 with 1 Axes>"
      ]
     },
     "metadata": {},
     "output_type": "display_data"
    }
   ],
   "source": [
    "import seaborn as sns\n",
    "\n",
    "df_plot = df.query('species == \"Adelie\"')\n",
    "\n",
    "fig = sns.barplot(data=df_plot, x=\"diet\", y=\"body_mass_g\", hue =\"sex\")"
   ]
  },
  {
   "cell_type": "markdown",
   "metadata": {},
   "source": [
    "Der Plot wird zurückgegeben und und in der variablen `fig` gespeichert. Wir können ihn mit der Methode `show` anzeigen.\n",
    "Als Daten erwartet der Plot einen Dataframe und die Namen der Spalten, die auf der x- und y-Achse dargestellt werden sollen. Über `hue` (Farbton) können wir die Daten noch weiter gruppieren."
   ]
  },
  {
   "cell_type": "markdown",
   "metadata": {},
   "source": [
    "Der Plot hilft weiter, aber noch wäre er nicht perfekt, um alle Punkte in einem Laborbericht zu bekommen. Hierfür können wir diverse `set`-Methoden verwenden, um die Achsenbeschriftungen zu ändern und den Plot zu verschönern."
   ]
  },
  {
   "cell_type": "code",
   "execution_count": 58,
   "metadata": {},
   "outputs": [],
   "source": [
    "# set the title\n",
    "fig.set_title(\"Adelie Penguins\")\n",
    "\n",
    "# set the x-axis label\n",
    "fig.set_xlabel(\"Diet\")\n",
    "\n",
    "# set the y-axis label\n",
    "fig.set_ylabel(\"Body Mass in g\")\n",
    "\n",
    "# store the plot\n",
    "\n",
    "fig.figure.savefig(\"Adelie_penguins.png\")"
   ]
  },
  {
   "cell_type": "markdown",
   "metadata": {},
   "source": [
    "## 🤖 Umgang mit KI-Unterstützung\n",
    "\n",
    "### Promts für ChatGPT\n",
    "\n",
    "Überlegen sie sich immer genau, das die KI wissen muss, um Ihnen möglichst gut helfen zu können (z.B. die Struktur Ihrer Daten). Innerhalb einer Chat-Session merkt sich die KI, was sie zuvor gesagt haben. Sie können also in einer Chat-Session aufeinander aufbauende Fragen stellen.\n",
    "\n",
    "**gut**\n",
    "\n",
    "```\n",
    "I have a csv file palmerpenguins_extended.csv that contains data about penguins. And looks like this:\n",
    "\n",
    "species,island,bill_length_mm,bill_depth_mm,flipper_length_mm,body_mass_g,sex,diet,life_stage,health_metrics,year\n",
    "Adelie,Biscoe,53.4,17.8,219.0,5687.0,female,fish,adult,overweight,2021\n",
    "Adelie,Biscoe,49.3,18.1,245.0,6811.0,female,fish,adult,overweight,2021\n",
    "Adelie,Biscoe,55.7,16.6,226.0,5388.0,female,fish,adult,overweight,2021\n",
    "\n",
    "\n",
    "How can I Read this into a Pandas Dataframe? And how can I filter the data only for the island ``Biscoe`` and get the maximum body mass of the penguins grouped by species and sex?\n",
    "```\n",
    "\n",
    "**schlecht**\n",
    "\n",
    "```\t\n",
    "Hot to read a csv file into a pandas dataframe and get the mean of a value?\n",
    "```\n",
    "\n",
    "### Unterstützung durch Autocomplete\n",
    "\n",
    "Nutzen Sie Kommentare, um die KI zu unterstützen. Sie können Kommentare verwenden, um der KI zu sagen, was Sie als nächstes tun möchten."
   ]
  },
  {
   "cell_type": "markdown",
   "metadata": {},
   "source": [
    "## 🏆 Projekt\n"
   ]
  },
  {
   "cell_type": "markdown",
   "metadata": {},
   "source": []
  }
 ],
 "metadata": {
  "kernelspec": {
   "display_name": "Python 3",
   "language": "python",
   "name": "python3"
  },
  "language_info": {
   "codemirror_mode": {
    "name": "ipython",
    "version": 3
   },
   "file_extension": ".py",
   "mimetype": "text/x-python",
   "name": "python",
   "nbconvert_exporter": "python",
   "pygments_lexer": "ipython3",
   "version": "3.12.0"
  }
 },
 "nbformat": 4,
 "nbformat_minor": 2
}
