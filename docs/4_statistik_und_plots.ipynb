{
 "cells": [
  {
   "cell_type": "markdown",
   "metadata": {},
   "source": [
    "# Statistik und Plots\n",
    "\n",
    "In Ihren Laboren und Abschlussarbeiten werden Sie oft mit Tabulaten Daten arbeiten. In diesem Notebook werden wir uns mit der Analyse und Visualisierung von Daten beschäftigen. Wir werden die Bibliotheken `pandas` und `matplotlib` verwenden, um Daten zu analysieren und zu visualisieren."
   ]
  },
  {
   "cell_type": "markdown",
   "metadata": {},
   "source": [
    "## Pandas und Dataframes\n",
    "\n",
    "- Csv-Dateien lesen und schreiben\n",
    "- Statistische Funktionen\n",
    "- LateX-Tabellen"
   ]
  },
  {
   "cell_type": "markdown",
   "metadata": {},
   "source": []
  },
  {
   "cell_type": "markdown",
   "metadata": {},
   "source": [
    "## Plots mit `seaborn`"
   ]
  },
  {
   "cell_type": "markdown",
   "metadata": {},
   "source": []
  },
  {
   "cell_type": "markdown",
   "metadata": {},
   "source": [
    "## 🏆 Projekt\n"
   ]
  },
  {
   "cell_type": "markdown",
   "metadata": {},
   "source": []
  }
 ],
 "metadata": {
  "language_info": {
   "name": "python"
  }
 },
 "nbformat": 4,
 "nbformat_minor": 2
}
