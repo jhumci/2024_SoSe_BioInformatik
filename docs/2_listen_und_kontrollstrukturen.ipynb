{
 "cells": [
  {
   "cell_type": "markdown",
   "metadata": {},
   "source": [
    "# Listen und Kontrollstrukturen\n",
    "\n",
    "Computer sind dann äußerst nützlich, wenn sie uns wiederkehrende Aufgaben abnehmen. Listen und Kontrollstrukturen sind zwei der wichtigsten Konzepte in der Programmierung, um solche Aufgaben zu automatisieren. In diesem Notebook lernen Sie, wie Sie Listen in Python erstellen und bearbeiten und wie Sie Kontrollstrukturen wie Schleifen und Bedingungen verwenden, um eigene Algorithmen zu schreiben."
   ]
  },
  {
   "cell_type": "markdown",
   "metadata": {},
   "source": [
    "## Listen\n",
    "\n",
    "Listen sind eine Sammlung von Elementen, die über Buchstaben hinaus gehen können. Ansonsten können Listen in Python alles, was Strings können. Listen können auch leere Elemente enthalten. Listen können auch Listen enthalten. Listen können auch Elemente mit unterschiedlichen Datentypen enthalten.\n",
    "Listen sind in Python durch eckige Klammern `[]` gekennzeichnet. Die Elemente einer Liste werden durch Kommas getrennt.\n"
   ]
  },
  {
   "cell_type": "code",
   "execution_count": 131,
   "metadata": {},
   "outputs": [
    {
     "name": "stdout",
     "output_type": "stream",
     "text": [
      "Wort\n"
     ]
    }
   ],
   "source": [
    "my_list : list = [1, 2, 3, 4, 5,\"a\",\"Wort\", True]\n",
    "\n",
    "print(my_list[6])"
   ]
  },
  {
   "cell_type": "markdown",
   "metadata": {},
   "source": [
    "Häufig ist es sinnvoll gleichartige Daten in einer Liste zu speichern. Zum Beispiel die Expressionswerte verschiedener Gene in einer Zelle. Entsprechend lassen sich dann Auswertungen durchführen, um z.B. den das Maximum, Minimum, den Mittelwert zu berechenen."
   ]
  },
  {
   "cell_type": "code",
   "execution_count": 133,
   "metadata": {},
   "outputs": [],
   "source": [
    "my_genes : list[str] = [\"BRCA1\", \"TP53\", \"EGFR\", \"PTEN\", \"CDH1\"]\n",
    "my_expressions : list[float] = [5.3, 2.7, 0.0, 1.2, 3.8]"
   ]
  },
  {
   "cell_type": "code",
   "execution_count": 134,
   "metadata": {},
   "outputs": [
    {
     "name": "stdout",
     "output_type": "stream",
     "text": [
      "The maximum expression value is: 5.3\n"
     ]
    }
   ],
   "source": [
    "expression_max : float = max(my_expressions)\n",
    "\n",
    "print(\"The maximum expression value is: \" + str(expression_max))\n"
   ]
  },
  {
   "cell_type": "markdown",
   "metadata": {},
   "source": [
    "### ✍️ Aufgabe: Berechnung des Durchschnittlichen Expressionswertes\n",
    "\n",
    "Nutzen Sie die Funktionen `sum()` und `len()` um den durchschnittlichen Expressionswert im Datenset zu berechnen.\t"
   ]
  },
  {
   "cell_type": "code",
   "execution_count": null,
   "metadata": {},
   "outputs": [],
   "source": []
  },
  {
   "cell_type": "code",
   "execution_count": 123,
   "metadata": {},
   "outputs": [
    {
     "name": "stdout",
     "output_type": "stream",
     "text": [
      "The mean expression value is : 5\n"
     ]
    }
   ],
   "source": [
    "#@title ❓ Click `Show code` in the code cell to show the solution. { display-mode: \"form\" }\n",
    "\n",
    "my_genes : list[str] = [\"BRCA1\", \"TP53\", \"EGFR\", \"PTEN\", \"CDH1\"]\n",
    "my_expressions : list[float] = [5.3, 2.7, 0.0, 1.2, 3.8]\n",
    "\n",
    "length : int = len(my_genes)\n",
    "expressions_sum : float = sum(my_expressions)\n",
    "\n",
    "print(\"The mean expression value is : \" + str(length))"
   ]
  },
  {
   "cell_type": "markdown",
   "metadata": {},
   "source": [
    "### Verändern von Listen\n",
    "\n",
    "Mittels `append()` kann ein Element am Ende der Liste hinzugefügt werden. Mit `pop()` kann ein Element an einer bestimmten Position entfernt werden.. Mit `reverse()` kann die Liste umgekehrt werden. Mit `copy()` kann eine Kopie der Liste erstellt werden.\n",
    "\n",
    "Wichtig ist hierbei, dass es sich um sogenannte \"in-place\" Operationen handelt. Das bedeutet, dass die Liste verändert wird und nicht eine neue Liste erstellt wird. Wir müssen also keine Zuweisung zu einer neuen Variable vornehmen."
   ]
  },
  {
   "cell_type": "code",
   "execution_count": 124,
   "metadata": {},
   "outputs": [
    {
     "name": "stdout",
     "output_type": "stream",
     "text": [
      "The sorted expression values are: [0.0, 1.2, 2.7, 3.8, 5.3]\n"
     ]
    }
   ],
   "source": [
    "my_expressions : list[float] = [5.3, 2.7, 0.0, 1.2, 3.8]\n",
    "\n",
    "my_expressions.sort()\n",
    "\n",
    "print(\"The sorted expression values are: \" + str(my_expressions))"
   ]
  },
  {
   "cell_type": "code",
   "execution_count": 125,
   "metadata": {},
   "outputs": [
    {
     "name": "stdout",
     "output_type": "stream",
     "text": [
      "The expression values with the new value are: [0.0, 1.2, 2.7, 3.8, 5.3, 3.7]\n"
     ]
    }
   ],
   "source": [
    "my_expressions.append(3.7)\n",
    "\n",
    "print(\"The expression values with the new value are: \" + str(my_expressions))"
   ]
  },
  {
   "cell_type": "code",
   "execution_count": 126,
   "metadata": {},
   "outputs": [
    {
     "name": "stdout",
     "output_type": "stream",
     "text": [
      "The expression values in reverse order are: [3.7, 5.3, 3.8, 2.7, 1.2, 0.0]\n"
     ]
    }
   ],
   "source": [
    "my_expressions.reverse()\n",
    "\n",
    "print(\"The expression values in reverse order are: \" + str(my_expressions))"
   ]
  },
  {
   "cell_type": "code",
   "execution_count": 127,
   "metadata": {},
   "outputs": [
    {
     "name": "stdout",
     "output_type": "stream",
     "text": [
      "The expression values with the third element removed are: [3.7, 5.3, 2.7, 1.2, 0.0]\n"
     ]
    }
   ],
   "source": [
    "my_expressions.pop(2)   # remove the third element\n",
    "\n",
    "print(\"The expression values with the third element removed are: \" + str(my_expressions))"
   ]
  },
  {
   "cell_type": "markdown",
   "metadata": {},
   "source": [
    "### Sortieren einer Liste\n",
    "\n",
    "Mit der Funktion `sorted()` können Listen sortiert werden. Die Funktion gibt eine neue Liste zurück, die die sortierte Version der ursprünglichen Liste enthält. Die ursprüngliche Liste bleibt unverändert."
   ]
  },
  {
   "cell_type": "code",
   "execution_count": 128,
   "metadata": {},
   "outputs": [
    {
     "name": "stdout",
     "output_type": "stream",
     "text": [
      "[0.0, 1.2, 2.7, 3.8, 5.3]\n"
     ]
    }
   ],
   "source": [
    "## Listen\n",
    "\n",
    "my_expressions : list[float] = [5.3, 2.7, 0.0, 1.2, 3.8]\n",
    "\n",
    "my_expressions_sorted : list[float] = sorted(my_expressions)\n",
    "\n",
    "print(my_expressions_sorted)"
   ]
  },
  {
   "cell_type": "markdown",
   "metadata": {},
   "source": [
    "### ✍️ Aufgabe: Häufigkeit von Elementen in einer Liste\n",
    "\n",
    "\n",
    "Der folgenden Code installiert ein Paket (`biopython`), das es ermöglicht die NCBi Datenbank zu durchsuchen und effizient mit Sequenzdaten zu arbeiten. \n",
    "\n",
    "Wir gehen davon aus, dass wir eine DNA-Sequenz von einem uns unbekannten Fisch haben. Wir wollen nun bestimmen, um welche Fischart es es sich handelt. Dazu lassen wird die Sequenz in der NCBi Datenbank suchen.\n",
    "\n",
    "Die Suche gibt uns Treffer (Alignments) zurück. Jeder Treffer verschiedene Eigenschaften, wie z.B. den Namen der Art, die Sequenz, die Länge der Sequenz, den Grad der Übereinstimmung etc.\n",
    "\n",
    "Wir wollen in erster Näherung davon aus gehen, dass die Art, die am häufigsten vorkommt, die Art ist, zu der unsere Sequenz gehört. Dabei ignorieren wir, die Informationen über die Übereinstimmung und die Länge der Sequenz. Zudem sind Species mit vielen Einträgen in der NCBi Datenbank wahrscheinlich häufiger als solche mit wenigen Einträgen."
   ]
  },
  {
   "cell_type": "code",
   "execution_count": 135,
   "metadata": {},
   "outputs": [
    {
     "name": "stdout",
     "output_type": "stream",
     "text": [
      "Requirement already satisfied: biopython in c:\\python312\\lib\\site-packages (1.83)\n",
      "Requirement already satisfied: numpy in c:\\python312\\lib\\site-packages (from biopython) (1.26.1)\n"
     ]
    }
   ],
   "source": [
    "# Installation und Modul-Import\n",
    "!pip install biopython\n",
    "from Bio.Blast import NCBIWWW\n",
    "from Bio.Seq import Seq\n",
    "from Bio.Blast import NCBIXML"
   ]
  },
  {
   "cell_type": "markdown",
   "metadata": {},
   "source": [
    "In der Folge nutzen wir [`Seq()`](https://biopython.org/docs/1.75/api/Bio.Seq.html), um ein Sequenzobjekt zu erstellen und [`NCBIWWW.qblast()`](https://biopython.org/docs/1.75/api/Bio.Blast.NCBIWWW.html), um eine BLAST-Suche durchzuführen. Die Funktion `qblast()` benötigt die Argumente `program`, `database` und `sequence`. In unserem Fall verwenden wir `blastn` als Programm, `nt` als Datenbank und die Sequenz.\n"
   ]
  },
  {
   "cell_type": "markdown",
   "metadata": {},
   "source": [
    "Im folgenden übergeben wir eine Gen-Sequenz, einer unbekannten Fisch-Spezies, an die Funktion `qblast()`. Die Funktion gibt uns eine Liste an Treffern mit der höchsten Übereinstimmung zurück. \n",
    "\n",
    "Ihre Aufgabe ist es nun, zu bewerten um welche Art von Fisch es sich handelt. Dazu sollen Sie die fünf größten Übereinstimmungswerte ausgeben.\n",
    "\n",
    "**Vorsicht: Die Abfrage kann einige Zeit in Anspruch (ca. 2 Minuten) nehmen.**\n",
    "\n",
    "**Sie können alternativ auch direkt die Zelle darunter ausführen, um das Ergebnis zu sehen.**\n"
   ]
  },
  {
   "cell_type": "code",
   "execution_count": 136,
   "metadata": {},
   "outputs": [],
   "source": [
    "# Eingabe der Sequenz\n",
    "sequence_data = Seq(\"TGCACCCCTAATGCCTTCCTTGGATGTGGTAGCTATTTTTCTCAGGATCCCTCTCCGGAATCGAACCATAACTGATTTAATG\")\n",
    "\n",
    "# Abfrage der Sequenz in der Datenbank\n",
    "result_handle = NCBIWWW.qblast(\"blastn\", \"nt\", sequence_data, hitlist_size = 50)\n",
    "\n",
    "# Store the result in a file\n",
    "with open(\"my_blast.xml\", \"w\") as out_handle:\n",
    "    out_handle.write(result_handle.read())\n",
    "result_handle.close()\n"
   ]
  },
  {
   "cell_type": "code",
   "execution_count": 147,
   "metadata": {},
   "outputs": [
    {
     "ename": "AttributeError",
     "evalue": "'Alignment' object has no attribute 'bit_score'",
     "output_type": "error",
     "traceback": [
      "\u001b[1;31m---------------------------------------------------------------------------\u001b[0m",
      "\u001b[1;31mAttributeError\u001b[0m                            Traceback (most recent call last)",
      "Cell \u001b[1;32mIn[147], line 9\u001b[0m\n\u001b[0;32m      7\u001b[0m \u001b[38;5;28;01mfor\u001b[39;00m blast_record \u001b[38;5;129;01min\u001b[39;00m NCBIXML\u001b[38;5;241m.\u001b[39mparse(result_handle):\n\u001b[0;32m      8\u001b[0m     \u001b[38;5;28;01mfor\u001b[39;00m alignment \u001b[38;5;129;01min\u001b[39;00m blast_record\u001b[38;5;241m.\u001b[39malignments:\n\u001b[1;32m----> 9\u001b[0m         organism_list\u001b[38;5;241m.\u001b[39mappend(\u001b[43malignment\u001b[49m\u001b[38;5;241;43m.\u001b[39;49m\u001b[43mbit_score\u001b[49m)\n\u001b[0;32m     11\u001b[0m \u001b[38;5;28mprint\u001b[39m(organism_list)\n",
      "\u001b[1;31mAttributeError\u001b[0m: 'Alignment' object has no attribute 'bit_score'"
     ]
    }
   ],
   "source": [
    "# open the result file\n",
    "result_handle = open(\"my_blast.xml\")\n",
    "\n",
    "# geht all the organisms in a list\n",
    "\n",
    "organism_list = []\n",
    "for blast_record in NCBIXML.parse(result_handle):\n",
    "    for alignment in blast_record.alignments:\n",
    "        organism_list.append(alignment.bit_score)\n",
    "\n",
    "print(organism_list)"
   ]
  },
  {
   "cell_type": "markdown",
   "metadata": {},
   "source": [
    "Leider haben die Einträge in `titles` keine direkte Übereinstimmung mit den Arten. Sie müssen also die Einträge in `titles` so bearbeiten, dass Sie die Art herauslesen können. Das wird nicht einfach, da die Einträge in `titles` nicht einheitlich sind. Sie müssen also eine Strategie entwickeln, um die Art herauszulesen. Eine Möglichkeit ist es nur die ersten beiden Worten zu verwenden, da diese scheinbar öft (wenn auch nicht immer die Art enthalten)."
   ]
  },
  {
   "cell_type": "code",
   "execution_count": 143,
   "metadata": {},
   "outputs": [
    {
     "data": {
      "text/plain": [
       "['Pinus environmental sample clone CEobese177 18S ribosomal RNA gene, partial sequence',\n",
       " 'Uncultured eukaryote clone TW-B1-1-11a 18S ribosomal RNA gene, partial sequence',\n",
       " 'Uncultured eukaryote clone KG.E36# 18S ribosomal RNA gene, partial sequence',\n",
       " 'Balanophora sp. PML064 small subunit ribosomal RNA gene, partial sequence',\n",
       " 'Quercus cerris genome assembly, chromosome: 6',\n",
       " 'Uncultured eukaryote clone TWI-5b 18S ribosomal RNA gene, partial sequence',\n",
       " 'Balanophora latisepala voucher PC-lat small subunit ribosomal RNA gene, partial sequence',\n",
       " 'Hedera helix genome assembly, chromosome: 1',\n",
       " 'Salmo trutta genome assembly, chromosome: 21',\n",
       " 'Balanophora subcupularis voucher PML051 small subunit ribosomal RNA gene, partial sequence',\n",
       " 'Balanophora subcupularis voucher PML054 small subunit ribosomal RNA gene, partial sequence',\n",
       " 'Uncultured Paraglomus clone Sd7 small subunit ribosomal RNA gene, partial sequence',\n",
       " 'Paspalum notatum var. saurae isolate R1 chromosome 08',\n",
       " 'Salmo trutta genome assembly, chromosome: 28',\n",
       " 'Balanophora sp. PML065 small subunit ribosomal RNA gene, partial sequence',\n",
       " 'PREDICTED: Tripterygium wilfordii 18S ribosomal RNA (LOC119994808), rRNA',\n",
       " 'Balanophora sp. Yu003 small subunit ribosomal RNA gene, partial sequence',\n",
       " 'Balanophora subcupularis voucher HKM-sub small subunit ribosomal RNA gene, partial sequence',\n",
       " 'Balanophora sp. PML070 small subunit ribosomal RNA gene, partial sequence',\n",
       " 'Salmo trutta genome assembly, chromosome: 26',\n",
       " 'Balanophora involucrata voucher Yu023 small subunit ribosomal RNA gene, partial sequence',\n",
       " 'Balanophora abbreviata voucher PML059 small subunit ribosomal RNA gene, partial sequence',\n",
       " 'Uncultured eukaryote gene for 18S rRNA, partial sequence, clone: 18S-AK-B-21',\n",
       " 'Uncultured Trinematidae clone Ja_2_8 18S ribosomal RNA gene, partial sequence',\n",
       " 'Ziziphus jujuba cultivar Dongzao chromosome 8',\n",
       " 'Balanophora fungosa voucher MK-fun small subunit ribosomal RNA gene, partial sequence',\n",
       " 'Balanophora latisepala voucher PML056 small subunit ribosomal RNA gene, partial sequence',\n",
       " 'Balanophora sp. SZ-2021 voucher Yu006 small subunit ribosomal RNA gene, partial sequence',\n",
       " 'Balanophora latisepala voucher MF-lat small subunit ribosomal RNA gene, partial sequence',\n",
       " 'Balanophora fungosa voucher KMP-fun small subunit ribosomal RNA gene, partial sequence',\n",
       " 'Balanophora fungosa voucher MF-fun small subunit ribosomal RNA gene, partial sequence',\n",
       " 'Balanophora latisepala voucher DP-lat small subunit ribosomal RNA gene, partial sequence',\n",
       " 'Triticum monococcum genome assembly, chromosome: UA',\n",
       " 'Uncultured eukaryote clone TW-B1-2-11a 18S ribosomal RNA gene, partial sequence',\n",
       " 'Balanophora sp. PML062 small subunit ribosomal RNA gene, partial sequence',\n",
       " 'Agrostemma githago genome assembly, chromosome: 20',\n",
       " 'Salmo trutta genome assembly, chromosome: 12',\n",
       " 'Salmo trutta genome assembly, chromosome: 33',\n",
       " 'Balanophora sp. PML066 small subunit ribosomal RNA gene, partial sequence',\n",
       " 'Brassica napus cultivar Xiang5A chromosome 10',\n",
       " 'Kuwaitiella rubra isolate K118_KHI50219-7 small subunit ribosomal RNA gene, partial sequence',\n",
       " 'PREDICTED: Bombus huntii small subunit ribosomal RNA (LOC126877703), rRNA',\n",
       " 'Balanophora latisepala voucher AG small subunit ribosomal RNA gene, partial sequence',\n",
       " 'Salmo trutta genome assembly, chromosome: 16',\n",
       " 'Balanophora sp. PML063 small subunit ribosomal RNA gene, partial sequence',\n",
       " 'Balanophora abbreviata voucher PML057 small subunit ribosomal RNA gene, partial sequence',\n",
       " 'Salmo trutta genome assembly, chromosome: 3',\n",
       " 'Aplysina aerophoba genome assembly, chromosome: 1',\n",
       " 'Kuwaitiella rubra isolate KA16_KHI50219-7 small subunit ribosomal RNA gene, partial sequence',\n",
       " 'Balanophora laxiflora voucher PC-lax small subunit ribosomal RNA gene, partial sequence']"
      ]
     },
     "execution_count": 143,
     "metadata": {},
     "output_type": "execute_result"
    }
   ],
   "source": [
    "titles = list(set(organism_list))\n",
    "titles"
   ]
  },
  {
   "cell_type": "code",
   "execution_count": null,
   "metadata": {},
   "outputs": [],
   "source": [
    " Nutzen Sie dann die Funktion `count(<spezies_name>)` um die Anzahl der Treffer für jedes Organismus zu erhalten."
   ]
  },
  {
   "cell_type": "code",
   "execution_count": null,
   "metadata": {},
   "outputs": [],
   "source": [
    "twp\n",
    "for title in titles:\n",
    "    print(title + \" : \" + str(organism_list.count(title)))\n",
    "    "
   ]
  },
  {
   "cell_type": "markdown",
   "metadata": {},
   "source": [
    "## Schleifen\n",
    "\n",
    "Schleifen sind ein grundlegendes Konzept in der Programmierung. Sie erlauben es, eine Operation mehrmals auszuführen. In Python gibt es zwei Arten von Schleifen: `for` und `while`.\n",
    "\n",
    "Meistens wird die `for`-Schleife verwendet, wenn Sie über eine Liste oder einen Strings iterieren. Die `for`-Schleife wird durch das Schlüsselwort `for` eingeleitet, gefolgt von einer Variable, die den Wert des aktuellen Elements der Liste enthält, gefolgt von dem Schlüsselwort `in`, gefolgt von der Liste, über die iteriert werden soll, gefolgt von einem Doppelpunkt. Der Code, der in der Schleife ausgeführt werden soll, wird eingerückt."
   ]
  },
  {
   "cell_type": "code",
   "execution_count": null,
   "metadata": {},
   "outputs": [
    {
     "name": "stdout",
     "output_type": "stream",
     "text": [
      "T\n",
      "G\n",
      "C\n",
      "A\n",
      "C\n",
      "C\n",
      "C\n",
      "C\n",
      "T\n",
      "A\n",
      "A\n",
      "T\n",
      "G\n",
      "C\n",
      "C\n",
      "T\n",
      "T\n",
      "C\n",
      "C\n",
      "T\n",
      "T\n",
      "G\n",
      "G\n",
      "A\n",
      "T\n",
      "G\n",
      "T\n",
      "G\n",
      "G\n",
      "T\n",
      "A\n",
      "G\n",
      "C\n",
      "T\n",
      "A\n",
      "T\n",
      "T\n",
      "T\n",
      "T\n",
      "T\n",
      "C\n",
      "T\n",
      "C\n",
      "A\n",
      "G\n",
      "G\n",
      "A\n",
      "T\n",
      "C\n",
      "C\n",
      "C\n",
      "T\n",
      "C\n",
      "T\n",
      "C\n",
      "C\n",
      "G\n",
      "G\n",
      "A\n",
      "A\n",
      "T\n",
      "C\n",
      "G\n",
      "A\n",
      "A\n",
      "C\n",
      "C\n",
      "A\n",
      "T\n",
      "A\n",
      "A\n",
      "C\n",
      "T\n",
      "G\n",
      "A\n",
      "T\n",
      "T\n",
      "T\n",
      "A\n",
      "A\n",
      "T\n",
      "G\n"
     ]
    }
   ],
   "source": [
    "sequence = [\"TGCACCCCTAATGCCTTCCTTGGATGTGGTAGCTATTTTTCTCAGGATCCCTCTCCGGAATCGAACCATAACTGATTTAATG\"]\n",
    "\n",
    "for letter in sequence_data:\n",
    "    print(letter)"
   ]
  },
  {
   "cell_type": "markdown",
   "metadata": {},
   "source": [
    "### Schleifen über Zahlensequenzen\n",
    "\n",
    "Die Funktion `range()` erzeugt eine Sequenz von Zahlen. Sie kann mit einem, zwei oder drei Argumenten aufgerufen werden. Wenn sie mit einem Argument aufgerufen wird, erzeugt sie eine Sequenz von Zahlen von 0 bis zu diesem Argument. Wenn sie mit zwei Argumenten aufgerufen wird, erzeugt sie eine Sequenz von Zahlen von dem ersten Argument bis zum zweiten Argument. Wenn sie mit drei Argumenten aufgerufen wird, erzeugt sie eine Sequenz von Zahlen von dem ersten Argument bis zum zweiten Argument, wobei das dritte Argument der Schritt ist.\n",
    "\n",
    "Beispielsweise wollen wir alle Codons einer Sequenz durchgehen. Dazu können wir die Länge der Sequenz durchgehen und dann die Sequenz in Dreiergruppen aufteilen."
   ]
  },
  {
   "cell_type": "code",
   "execution_count": null,
   "metadata": {},
   "outputs": [],
   "source": [
    "sequence = [\"TGCACCCCTAATGCCTTCCTTGGATGTGGTAGCTATTTTTCTCAGGATCCCTCTCCGGAATCGAACCATAACTGATTTAATG\"]\n",
    "\n",
    "for start_position in range(0, len(sequence_data), 3):\n",
    "    codon = sequence_data[start_position:start_position+3]\n",
    "    print(codon)"
   ]
  },
  {
   "cell_type": "markdown",
   "metadata": {},
   "source": [
    "Stellen wir uns nun vor, wir wollen Zählen wie oft das Stop-Codon `TAA` in einer Sequenz vorkommt. Dazu können wir die Sequenz in Dreiergruppen aufteilen und dann zählen, wie oft `TAA` vorkommt. Dies können wird durch einen Vergleich mit `==` erreichen. "
   ]
  },
  {
   "cell_type": "code",
   "execution_count": null,
   "metadata": {},
   "outputs": [
    {
     "name": "stdout",
     "output_type": "stream",
     "text": [
      "2\n"
     ]
    }
   ],
   "source": [
    "sequence = \"TGCTAACCCCTAATGCCTTCCTTGGATGTGGTAGCTATTTTTCTCAGGATCCCTCTCCGGAATCGAACCATAACTGATTTATAAATG\"\n",
    "\n",
    "counter = 0\n",
    "\n",
    "for start_position in range(0, len(sequence), 3):\n",
    "\n",
    "    codon = sequence[start_position:start_position+3]\n",
    "    \n",
    "    counter = counter + int(codon == \"TAA\")    \n",
    "\n",
    "print(counter)"
   ]
  },
  {
   "cell_type": "markdown",
   "metadata": {},
   "source": [
    "### ✍️ Aufgabe: Normalsierung der Expressionswerte\n",
    "\n",
    "Bei der Auswertung von Expressionswerten ist es oft sinnvoll die Werte zu normieren, da die Expression Reads sich in völlig verschiedenen Größenordnungen bewegen können. Eine Möglichkeit ist es, die Werte auf den Bereich von 0 bis 1 zu normieren. \n",
    "Normieren Sie die Werte in einer neuen Liste `normalized_values` und geben Sie die normierten Werte aus.\n",
    "\n",
    "Nutzen Sie hierzu die Formel $x_{\\text{norm}} = \\frac{x - \\min(x)}{\\max(x) - \\min(x)}$."
   ]
  },
  {
   "cell_type": "code",
   "execution_count": null,
   "metadata": {},
   "outputs": [],
   "source": [
    "my_genes = [\"BRCA1\", \"TP53\", \"EGFR\", \"PTEN\", \"CDH1\"]\n",
    "my_expressions = [5.3, 2.7, 0.1, 1.2, 3.8]\n",
    "\n"
   ]
  },
  {
   "cell_type": "code",
   "execution_count": null,
   "metadata": {},
   "outputs": [
    {
     "name": "stdout",
     "output_type": "stream",
     "text": [
      "[1.0, 0.5, 0.0, 0.2115384615384615, 0.7115384615384615]\n"
     ]
    }
   ],
   "source": [
    "#@title ❓ Click `Show code` in the code cell to show the solution. { display-mode: \"form\" }\n",
    "my_genes = [\"BRCA1\", \"TP53\", \"EGFR\", \"PTEN\", \"CDH1\"]\n",
    "my_expressions = [5.3, 2.7, 0.1, 1.2, 3.8]\n",
    "\n",
    "max_expression = max(my_expressions)\n",
    "min_expression = min(my_expressions)\n",
    "\n",
    "normalized_values = []\n",
    "\n",
    "for expression in my_expressions:\n",
    "    normalized_value = (expression - min_expression) / (max_expression - min_expression)\n",
    "    normalized_values.append(normalized_value)\n",
    "\n",
    "print(normalized_values)"
   ]
  },
  {
   "cell_type": "markdown",
   "metadata": {},
   "source": [
    "## Bedingungen"
   ]
  },
  {
   "cell_type": "markdown",
   "metadata": {},
   "source": [
    "Bedingungen erlauben es, Code nur unter bestimmten Bedingungen auszuführen. In Python gibt es die Schlüsselwörter `if`, `elif` und `else`. Wie bei Schleifen wird der Code, der unter einer Bedingung ausgeführt werden soll, eingerückt.\n"
   ]
  },
  {
   "cell_type": "markdown",
   "metadata": {},
   "source": [
    "Ein gutes Beispiel ist die Suche nach einem bestimmten Element in einer Liste. Dazu können wir eine Schleife nutzen, die über die Liste iteriert und dann mit einer Bedingung prüft, ob das Element gefunden wurde. Der von uns bisher verfasste Code ist nur begrenzt lesebar. Wir ihn auch mit einer `if`-Bedingung umschreiben."
   ]
  },
  {
   "cell_type": "code",
   "execution_count": null,
   "metadata": {},
   "outputs": [
    {
     "name": "stdout",
     "output_type": "stream",
     "text": [
      "2\n"
     ]
    }
   ],
   "source": [
    "sequence = \"TGCTAACCCCTAATGCCTTCCTTGGATGTGGTAGCTATTTTTCTCAGGATCCCTCTCCGGAATCGAACCATAACTGATTTATAAATG\"\n",
    "\n",
    "counter = 0\n",
    "\n",
    "for start_position in range(0, len(sequence), 3):\n",
    "\n",
    "    codon = sequence[start_position:start_position+3]\n",
    "    \n",
    "    counter = counter + int(codon == \"TAA\")    \n",
    "\n",
    "print(counter)"
   ]
  },
  {
   "cell_type": "markdown",
   "metadata": {},
   "source": [
    "Der resultierende Code ist näher an der menschlichen Sprache und daher leichter zu lesen."
   ]
  },
  {
   "cell_type": "code",
   "execution_count": null,
   "metadata": {},
   "outputs": [
    {
     "name": "stdout",
     "output_type": "stream",
     "text": [
      "2\n"
     ]
    }
   ],
   "source": [
    "sequence = \"TGCTAACCCCTAATGCCTTCCTTGGATGTGGTAGCTATTTTTCTCAGGATCCCTCTCCGGAATCGAACCATAACTGATTTATAAATG\"\n",
    "\n",
    "counter = 0\n",
    "\n",
    "for start_position in range(0, len(sequence), 3):\n",
    "\n",
    "    codon = sequence[start_position:start_position+3]\n",
    "    \n",
    "    if codon == \"TAA\":\n",
    "        counter = counter + 1\n",
    "\n",
    "print(counter)"
   ]
  },
  {
   "cell_type": "markdown",
   "metadata": {},
   "source": [
    "Außerdem können wir durch eine `else`-Bedingung sicherstellen, dass wir eine Nachricht ausgeben, wenn das Element nicht gefunden wurde."
   ]
  },
  {
   "cell_type": "code",
   "execution_count": null,
   "metadata": {},
   "outputs": [
    {
     "name": "stdout",
     "output_type": "stream",
     "text": [
      "The sequence contains 2 stop codons.\n"
     ]
    }
   ],
   "source": [
    "sequence = \"TGCTAACCCCTAATGCCTTCCTTGGATGTGGTAGCTATTTTTCTCAGGATCCCTCTCCGGAATCGAACCATAACTGATTTATAAATG\"\n",
    "\n",
    "counter = 0\n",
    "\n",
    "for start_position in range(0, len(sequence), 3):\n",
    "\n",
    "    codon = sequence[start_position:start_position+3]\n",
    "    \n",
    "    if codon == \"TAA\":\n",
    "        counter = counter + 1\n",
    "\n",
    "# Hier ist die Einrückung wieder vorne, das bedeutet, dass wir wieder auf der gleichen Ebene sind wie die for-Schleife\n",
    "if counter > 0:\n",
    "    print(\"The sequence contains \" + str(counter) + \" stop codons.\")\n",
    "else:\n",
    "    print(\"The sequence does not contain any stop codons.\") \n"
   ]
  },
  {
   "cell_type": "markdown",
   "metadata": {},
   "source": [
    "## Dictionaries\n",
    "\n",
    "Dictionarys sind eine weitere Möglichkeit, Daten zu speichern. Ein Dictionary ist eine Sammlung von Schlüssel-Wert-Paaren. Ein Dictionary ist durch geschweifte Klammern `{}` gekennzeichnet. Die Schlüssel und Werte in einem Dictionary werden durch Doppelpunken `:` getrennt. Die Schlüssel-Wert-Paare in einem Dictionary werden durch Kommas getrennt.\n",
    "\n",
    "z.B. können wir unsere Expressionswerte in einem Dictionary speichern, wobei der Genname der Schlüssel und der Expressionwert der Wert ist.\n"
   ]
  },
  {
   "cell_type": "code",
   "execution_count": null,
   "metadata": {},
   "outputs": [],
   "source": [
    "my_dict = {}\n",
    "\n",
    "my_dict = {\"BRCA1\": 5.3, \"TP53\": 2.7, \"EGFR\": 0.1, \"PTEN\": 1.2, \"CDH1\": 3.8}"
   ]
  },
  {
   "cell_type": "markdown",
   "metadata": {},
   "source": [
    "Der Abruf von Werten in einem Dictionary erfolgt durch den Schlüssel in eckigen Klammern."
   ]
  },
  {
   "cell_type": "code",
   "execution_count": null,
   "metadata": {},
   "outputs": [
    {
     "name": "stdout",
     "output_type": "stream",
     "text": [
      "5.3\n"
     ]
    }
   ],
   "source": [
    "print(my_dict[\"BRCA1\"])"
   ]
  },
  {
   "cell_type": "markdown",
   "metadata": {},
   "source": [
    "Das Hinzufügen von Werten in einem Dictionary erfolgt durch den Schlüssel in eckigen Klammern und den Wert nach einem Gleichheitszeichen."
   ]
  },
  {
   "cell_type": "code",
   "execution_count": null,
   "metadata": {},
   "outputs": [
    {
     "name": "stdout",
     "output_type": "stream",
     "text": [
      "{'BRCA1': 5.3, 'TP53': 2.7, 'EGFR': 0.1, 'PTEN': 1.2, 'CDH1': 3.8, 'JAK2': 4.0}\n"
     ]
    }
   ],
   "source": [
    "my_dict[\"JAK2\"] = 4.\n",
    "\n",
    "print(my_dict)"
   ]
  },
  {
   "cell_type": "markdown",
   "metadata": {},
   "source": [
    "Um zu überprüfen, ob ein Schlüssel in einem Dictionary vorhanden ist, können wir das Schlüsselwort `in` verwenden. Dieses funktioniert auch bei Listen."
   ]
  },
  {
   "cell_type": "code",
   "execution_count": null,
   "metadata": {},
   "outputs": [
    {
     "name": "stdout",
     "output_type": "stream",
     "text": [
      "True\n",
      "True\n"
     ]
    }
   ],
   "source": [
    "print(\"JAK2\" in my_dict)\n",
    "\n",
    "\n",
    "print(2 in [1,2,3])"
   ]
  },
  {
   "cell_type": "markdown",
   "metadata": {},
   "source": [
    "### ✍️ Aufgabe: Überführung von Listen in Dictionaries\n",
    "\n",
    "Überführen Sie die Liste `gene_names` und `expression_values` in ein Dictionary `expression_dict` und geben Sie das Dictionary aus.\n",
    "\n"
   ]
  },
  {
   "cell_type": "code",
   "execution_count": null,
   "metadata": {},
   "outputs": [],
   "source": [
    "my_genes = [\"BRCA1\", \"TP53\", \"EGFR\", \"PTEN\", \"CDH1\"]\n",
    "my_expressions = [5.3, 2.7, 0.1, 1.2, 3.8]\n"
   ]
  },
  {
   "cell_type": "code",
   "execution_count": null,
   "metadata": {},
   "outputs": [
    {
     "name": "stdout",
     "output_type": "stream",
     "text": [
      "{'BRCA1': 5.3, 'TP53': 2.7, 'EGFR': 0.1, 'PTEN': 1.2, 'CDH1': 3.8}\n"
     ]
    }
   ],
   "source": [
    "#@title ❓ Click `Show code` in the code cell to show the solution. { display-mode: \"form\" }\n",
    "my_genes = [\"BRCA1\", \"TP53\", \"EGFR\", \"PTEN\", \"CDH1\"]\n",
    "my_expressions = [5.3, 2.7, 0.1, 1.2, 3.8]\n",
    "\n",
    "index = 0\n",
    "expression_dict = {}\n",
    "\n",
    "for gene in my_genes:\n",
    "    expression_dict[gene] = my_expressions[index]\n",
    "    index = index + 1\n",
    "\n",
    "print(expression_dict)\n",
    "\n",
    "\n"
   ]
  },
  {
   "cell_type": "markdown",
   "metadata": {},
   "source": [
    "### 🏆 Bestimmung von Codon-Häufigkeiten\n",
    "\n",
    "In der Genetik ist es oft sinnvoll die Häufigkeit von Codons zu bestimmen. Dazu können wir die Sequenz in Dreiergruppen aufteilen und dann die Häufigkeit der Codons zählen. Erstellen Sie ein Programm, das die Häufigkeit der Codons in einer Sequenz bestimmt. Das Programm soll ein Dictionary zurückgeben, das die Häufigkeit der Codons enthält. Der Schlüssel des Dictionarys soll das Codon sein und der Wert die Häufigkeit.\n",
    "\n",
    "Sie müssen dazu für jedes Codon überprüfen, ob es bereits im Dictionary enthalten ist. Dann gibt es eine Fallunterscheidung. Wenn ja, erhöhen Sie den Wert dieses Eintrages um 1. Wenn nein, fügen Sie das Codon als Schlüssel hinzu und setzen den Wert auf 1. Printen Sie am Ende das Dictionary aus.\n",
    "\n"
   ]
  },
  {
   "cell_type": "code",
   "execution_count": null,
   "metadata": {},
   "outputs": [],
   "source": [
    "# Orientieren Sie sich an Code von zuvor\n",
    "sequence = \"TGCTAACCCCTAATGCCTTCCTTGGATGTGGTAGCTATTTTTCTCAGGATCCCTCTCCGGAATCGAACCATAACTGATTTATAAATG\"\n",
    "\n",
    "counter = 0\n",
    "\n",
    "for start_position in range(0, len(sequence), 3):\n",
    "\n",
    "    codon = sequence[start_position:start_position+3]\n",
    "    \n",
    "    counter = counter + int(codon == \"TAA\")    \n",
    "\n",
    "print(counter)"
   ]
  },
  {
   "cell_type": "code",
   "execution_count": null,
   "metadata": {},
   "outputs": [
    {
     "name": "stdout",
     "output_type": "stream",
     "text": [
      "{'TGC': 1, 'TAA': 2, 'CCC': 1, 'CTA': 1, 'ATG': 2, 'CCT': 2, 'TCC': 1, 'TTG': 1, 'GAT': 2, 'GTG': 1, 'GTA': 1, 'GCT': 1, 'ATT': 1, 'TTT': 1, 'CTC': 2, 'AGG': 1, 'ATC': 1, 'CGG': 1, 'AAT': 1, 'CGA': 1, 'ACC': 1, 'ATA': 1, 'ACT': 1, 'TTA': 1}\n"
     ]
    }
   ],
   "source": [
    "sequence = \"TGCTAACCCCTAATGCCTTCCTTGGATGTGGTAGCTATTTTTCTCAGGATCCCTCTCCGGAATCGAACCATAACTGATTTATAAATG\"\n",
    "\n",
    "codons_dict = {}\n",
    "\n",
    "counter = 0\n",
    "\n",
    "for start_position in range(0, len(sequence), 3):\n",
    "\n",
    "    codon = sequence[start_position:start_position+3]\n",
    "    \n",
    "    if codon in codons_dict:\n",
    "        codons_dict[codon] = codons_dict[codon] + 1\n",
    "    else:\n",
    "        codons_dict[codon] = 1\n",
    "\n",
    "print(codons_dict)"
   ]
  },
  {
   "cell_type": "code",
   "execution_count": null,
   "metadata": {},
   "outputs": [],
   "source": []
  }
 ],
 "metadata": {
  "kernelspec": {
   "display_name": "Python 3",
   "language": "python",
   "name": "python3"
  },
  "language_info": {
   "codemirror_mode": {
    "name": "ipython",
    "version": 3
   },
   "file_extension": ".py",
   "mimetype": "text/x-python",
   "name": "python",
   "nbconvert_exporter": "python",
   "pygments_lexer": "ipython3",
   "version": "3.12.0"
  }
 },
 "nbformat": 4,
 "nbformat_minor": 2
}
